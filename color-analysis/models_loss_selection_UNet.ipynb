{
  "cells": [
    {
      "cell_type": "code",
      "execution_count": null,
      "metadata": {
        "id": "8ulxDNcSNOq9"
      },
      "outputs": [],
      "source": [
        "# === colab configuration ===\n",
        "# p.s. when training on colab, weights are saved on Drive (directory DSCAS/weights).\n",
        "# p.p.s. skip this cell if running demo file locally!\n",
        "\n",
        "! pip install torch-summary\n",
        "! pip install ray\n",
        "! pip install tensorboardX==2.5.1\n",
        "! pip install tensorboard==2.11.2\n",
        "from google.colab import drive, files\n",
        "import sys\n",
        "\n",
        "# setting paths\n",
        "repository_path = '/content/deep-seasonal-color-analysis-system/'\n",
        "dataset_path = repository_path + 'headsegmentation_dataset_ccncsa/'\n",
        "dataset_path_drive = '/content/drive/MyDrive/DSCAS/headsegmentation_dataset_ccncsa/'\n",
        "weights_path = repository_path + 'models/weights/'\n",
        "weights_path_drive = '/content/drive/MyDrive/DSCAS/weights/'\n",
        "checkpoint_path = repository_path + 'models/loss_selection/'\n",
        "checkpoint_archive = '/content/' + checkpoint_path.split('/')[-2] + '.zip'\n",
        "\n",
        "sys.path.insert(0, repository_path)\n",
        "\n",
        "# cloning project repository and downloading dataset\n",
        "drive.mount('/content/drive')\n",
        "! test ! -d $repository_path && git clone https://github.com/mrcmich/deep-seasonal-color-analysis-system.git\n",
        "! test ! -d $dataset_path && cp -R $dataset_path_drive $dataset_path\n",
        "%cd $repository_path\n",
        "\n",
        "# setting branch and pulling updates\n",
        "branch = 'main'\n",
        "! git checkout $branch\n",
        "! git pull origin $branch\n",
        "\n",
        "executing_on_colab = True"
      ]
    },
    {
      "cell_type": "code",
      "execution_count": 2,
      "metadata": {
        "id": "PUNWSumyhhyN"
      },
      "outputs": [],
      "source": [
        "import os\n",
        "import torch\n",
        "from torch import nn, optim\n",
        "import torchvision.transforms as T\n",
        "from sklearn.model_selection import train_test_split\n",
        "from models import dataset, training_and_testing\n",
        "from models.cloud.UNet import unet\n",
        "from metrics_and_losses import metrics\n",
        "from utils import segmentation_labels, custom_transforms, model_names\n",
        "from models import config\n",
        "from slurm_scripts import slurm_config\n",
        "from ray import tune\n",
        "from ray.tune import CLIReporter\n",
        "from functools import partial\n",
        "\n",
        "try:\n",
        "  executing_on_colab\n",
        "except NameError:\n",
        "  executing_on_colab = False\n",
        "  weights_path = config.WEIGHTS_PATH\n",
        "  dataset_path = config.DATASET_PATH\n",
        "  checkpoint_path = config.LOSS_SELECTION_PATH"
      ]
    },
    {
      "cell_type": "code",
      "execution_count": 3,
      "metadata": {
        "id": "pSBN1RIFhhyP"
      },
      "outputs": [],
      "source": [
        "# defining transforms\n",
        "image_transform = T.Compose([T.Resize(slurm_config.GLOBAL_INPUT_SIZE_TRAINING_DEMO), T.Normalize(config.NORMALIZE_MEAN, config.NORMALIZE_STD)])\n",
        "target_transform = T.Compose([T.Resize(slurm_config.GLOBAL_INPUT_SIZE_TRAINING_DEMO)])\n",
        "\n",
        "# fetching dataset\n",
        "n_classes = len(segmentation_labels.labels)\n",
        "img_paths, label_paths = dataset.get_paths(dataset_path, file_name=config.DATASET_INDEX_NAME)\n",
        "X_train, _, Y_train, _ = train_test_split(\n",
        "    img_paths, label_paths, test_size=0.20, random_state=99, shuffle=True)\n",
        "train_dataset = dataset.CcncsaDataset(X_train, Y_train, image_transform, target_transform)\n",
        "\n",
        "# model parameters\n",
        "model_name = \"unet\"\n",
        "optimizer = optim.Adam\n",
        "\n",
        "# setting up hyperparameters for training\n",
        "device = 'cuda' if torch.cuda.is_available() else 'cpu'\n",
        "n_epochs = 10\n",
        "batch_size = 32\n",
        "score_fn = metrics.batch_mIoU\n",
        "learning_rate = 0.01\n",
        "class_weights = torch.tensor(config.CLASS_WEIGHTS, device=device)\n",
        "\n",
        "# Ray Tune parameters\n",
        "cpus_per_trial = 0\n",
        "gpus_per_trial = torch.cuda.device_count()\n",
        "num_samples = 1  # Number of times each combination is sampled (n_epochs are done per sample)\n",
        "metric = \"val_loss\"\n",
        "metrics_columns = [\"train_loss\", \"train_score\", \"val_loss\", \"val_score\", \"training_iteration\"]\n",
        "local_dir = checkpoint_path + model_names.MODEL_NAMES[model_name]\n",
        "max_report_frequency = 600\n",
        "reporter = CLIReporter(\n",
        "    metric_columns=metrics_columns, max_report_frequency=max_report_frequency)"
      ]
    },
    {
      "cell_type": "code",
      "execution_count": 4,
      "metadata": {
        "colab": {
          "base_uri": "https://localhost:8080/",
          "height": 1000
        },
        "id": "6PXu8ov8HMfW",
        "outputId": "cde2f9b0-3fae-416f-a71e-65a4e5f686b6"
      },
      "outputs": [
        {
          "name": "stderr",
          "output_type": "stream",
          "text": [
            "2023-02-03 07:33:42,511\tINFO worker.py:1538 -- Started a local Ray instance.\n",
            "2023-02-03 07:33:47,321\tWARNING worker.py:1851 -- Warning: The actor ImplicitFunc is very large (32 MiB). Check that its definition is not implicitly capturing a large array or other object in scope. Tip: use ray.put() to put large objects in the Ray object store.\n"
          ]
        },
        {
          "name": "stdout",
          "output_type": "stream",
          "text": [
            "== Status ==\n",
            "Current time: 2023-02-03 07:33:48 (running for 00:00:02.19)\n",
            "Memory usage on this node: 3.9/12.7 GiB \n",
            "Using FIFO scheduling algorithm.\n",
            "Resources requested: 0/2 CPUs, 1.0/1 GPUs, 0.0/7.4 GiB heap, 0.0/3.7 GiB objects\n",
            "Result logdir: /content/deep-seasonal-color-analysis-system/models/loss_selection/UNet/train_model_2023-02-03_07-33-45\n",
            "Number of trials: 1/1 (1 RUNNING)\n",
            "+-------------------------+----------+-------------------+\n",
            "| Trial name              | status   | loc               |\n",
            "|-------------------------+----------+-------------------|\n",
            "| train_model_178f9_00000 | RUNNING  | 172.28.0.12:68645 |\n",
            "+-------------------------+----------+-------------------+\n",
            "\n",
            "\n"
          ]
        },
        {
          "data": {
            "text/html": [
              "<div class=\"trialProgress\">\n",
              "  <h3>Trial Progress</h3>\n",
              "  <table>\n",
              "<thead>\n",
              "<tr><th>Trial name             </th><th>date               </th><th>done  </th><th>episodes_total  </th><th>experiment_id                   </th><th style=\"text-align: right;\">  experiment_tag</th><th>hostname    </th><th style=\"text-align: right;\">  iterations_since_restore</th><th>node_ip    </th><th style=\"text-align: right;\">  pid</th><th style=\"text-align: right;\">  time_since_restore</th><th style=\"text-align: right;\">  time_this_iter_s</th><th style=\"text-align: right;\">  time_total_s</th><th style=\"text-align: right;\">  timestamp</th><th style=\"text-align: right;\">  timesteps_since_restore</th><th>timesteps_total  </th><th style=\"text-align: right;\">  train_loss</th><th style=\"text-align: right;\">  train_score</th><th style=\"text-align: right;\">  training_iteration</th><th>trial_id   </th><th style=\"text-align: right;\">  val_loss</th><th style=\"text-align: right;\">  val_score</th><th style=\"text-align: right;\">  warmup_time</th></tr>\n",
              "</thead>\n",
              "<tbody>\n",
              "<tr><td>train_model_178f9_00000</td><td>2023-02-03_08-19-07</td><td>True  </td><td>                </td><td>6beb311736ad452581ddfffcb501346f</td><td style=\"text-align: right;\">               0</td><td>195247e2f7e8</td><td style=\"text-align: right;\">                        10</td><td>172.28.0.12</td><td style=\"text-align: right;\">68645</td><td style=\"text-align: right;\">             2712.15</td><td style=\"text-align: right;\">            267.77</td><td style=\"text-align: right;\">       2712.15</td><td style=\"text-align: right;\"> 1675412347</td><td style=\"text-align: right;\">                        0</td><td>                 </td><td style=\"text-align: right;\">    0.146635</td><td style=\"text-align: right;\">     0.583151</td><td style=\"text-align: right;\">                  10</td><td>178f9_00000</td><td style=\"text-align: right;\">   0.16159</td><td style=\"text-align: right;\">   0.582682</td><td style=\"text-align: right;\">   0.00314665</td></tr>\n",
              "</tbody>\n",
              "</table>\n",
              "</div>\n",
              "<style>\n",
              ".trialProgress {\n",
              "  display: flex;\n",
              "  flex-direction: column;\n",
              "  color: var(--jp-ui-font-color1);\n",
              "}\n",
              ".trialProgress h3 {\n",
              "  font-weight: bold;\n",
              "}\n",
              ".trialProgress td {\n",
              "  white-space: nowrap;\n",
              "}\n",
              "</style>\n"
            ],
            "text/plain": [
              "<IPython.core.display.HTML object>"
            ]
          },
          "metadata": {},
          "output_type": "display_data"
        },
        {
          "name": "stdout",
          "output_type": "stream",
          "text": [
            "== Status ==\n",
            "Current time: 2023-02-03 07:43:52 (running for 00:10:06.09)\n",
            "Memory usage on this node: 6.9/12.7 GiB \n",
            "Using FIFO scheduling algorithm.\n",
            "Resources requested: 0/2 CPUs, 1.0/1 GPUs, 0.0/7.4 GiB heap, 0.0/3.7 GiB objects\n",
            "Result logdir: /content/deep-seasonal-color-analysis-system/models/loss_selection/UNet/train_model_2023-02-03_07-33-45\n",
            "Number of trials: 1/1 (1 RUNNING)\n",
            "+-------------------------+----------+-------------------+--------------+---------------+------------+-------------+----------------------+\n",
            "| Trial name              | status   | loc               |   train_loss |   train_score |   val_loss |   val_score |   training_iteration |\n",
            "|-------------------------+----------+-------------------+--------------+---------------+------------+-------------+----------------------|\n",
            "| train_model_178f9_00000 | RUNNING  | 172.28.0.12:68645 |     0.600656 |      0.351972 |   0.576567 |    0.356303 |                    2 |\n",
            "+-------------------------+----------+-------------------+--------------+---------------+------------+-------------+----------------------+\n",
            "\n",
            "\n",
            "== Status ==\n",
            "Current time: 2023-02-03 07:53:55 (running for 00:20:09.18)\n",
            "Memory usage on this node: 6.9/12.7 GiB \n",
            "Using FIFO scheduling algorithm.\n",
            "Resources requested: 0/2 CPUs, 1.0/1 GPUs, 0.0/7.4 GiB heap, 0.0/3.7 GiB objects\n",
            "Result logdir: /content/deep-seasonal-color-analysis-system/models/loss_selection/UNet/train_model_2023-02-03_07-33-45\n",
            "Number of trials: 1/1 (1 RUNNING)\n",
            "+-------------------------+----------+-------------------+--------------+---------------+------------+-------------+----------------------+\n",
            "| Trial name              | status   | loc               |   train_loss |   train_score |   val_loss |   val_score |   training_iteration |\n",
            "|-------------------------+----------+-------------------+--------------+---------------+------------+-------------+----------------------|\n",
            "| train_model_178f9_00000 | RUNNING  | 172.28.0.12:68645 |     0.408932 |      0.367951 |   0.401651 |    0.362397 |                    4 |\n",
            "+-------------------------+----------+-------------------+--------------+---------------+------------+-------------+----------------------+\n",
            "\n",
            "\n",
            "== Status ==\n",
            "Current time: 2023-02-03 08:03:58 (running for 00:30:12.17)\n",
            "Memory usage on this node: 6.9/12.7 GiB \n",
            "Using FIFO scheduling algorithm.\n",
            "Resources requested: 0/2 CPUs, 1.0/1 GPUs, 0.0/7.4 GiB heap, 0.0/3.7 GiB objects\n",
            "Result logdir: /content/deep-seasonal-color-analysis-system/models/loss_selection/UNet/train_model_2023-02-03_07-33-45\n",
            "Number of trials: 1/1 (1 RUNNING)\n",
            "+-------------------------+----------+-------------------+--------------+---------------+------------+-------------+----------------------+\n",
            "| Trial name              | status   | loc               |   train_loss |   train_score |   val_loss |   val_score |   training_iteration |\n",
            "|-------------------------+----------+-------------------+--------------+---------------+------------+-------------+----------------------|\n",
            "| train_model_178f9_00000 | RUNNING  | 172.28.0.12:68645 |     0.272626 |      0.412651 |   0.249987 |    0.412587 |                    6 |\n",
            "+-------------------------+----------+-------------------+--------------+---------------+------------+-------------+----------------------+\n",
            "\n",
            "\n",
            "== Status ==\n",
            "Current time: 2023-02-03 08:14:01 (running for 00:40:15.10)\n",
            "Memory usage on this node: 6.9/12.7 GiB \n",
            "Using FIFO scheduling algorithm.\n",
            "Resources requested: 0/2 CPUs, 1.0/1 GPUs, 0.0/7.4 GiB heap, 0.0/3.7 GiB objects\n",
            "Result logdir: /content/deep-seasonal-color-analysis-system/models/loss_selection/UNet/train_model_2023-02-03_07-33-45\n",
            "Number of trials: 1/1 (1 RUNNING)\n",
            "+-------------------------+----------+-------------------+--------------+---------------+------------+-------------+----------------------+\n",
            "| Trial name              | status   | loc               |   train_loss |   train_score |   val_loss |   val_score |   training_iteration |\n",
            "|-------------------------+----------+-------------------+--------------+---------------+------------+-------------+----------------------|\n",
            "| train_model_178f9_00000 | RUNNING  | 172.28.0.12:68645 |     0.192868 |      0.509489 |   0.185751 |    0.525353 |                    8 |\n",
            "+-------------------------+----------+-------------------+--------------+---------------+------------+-------------+----------------------+\n",
            "\n",
            "\n"
          ]
        },
        {
          "name": "stderr",
          "output_type": "stream",
          "text": [
            "2023-02-03 08:19:07,517\tINFO tune.py:762 -- Total run time: 2723.24 seconds (2721.11 seconds for the tuning loop).\n"
          ]
        },
        {
          "name": "stdout",
          "output_type": "stream",
          "text": [
            "== Status ==\n",
            "Current time: 2023-02-03 08:19:07 (running for 00:45:21.12)\n",
            "Memory usage on this node: 6.9/12.7 GiB \n",
            "Using FIFO scheduling algorithm.\n",
            "Resources requested: 0/2 CPUs, 0/1 GPUs, 0.0/7.4 GiB heap, 0.0/3.7 GiB objects\n",
            "Result logdir: /content/deep-seasonal-color-analysis-system/models/loss_selection/UNet/train_model_2023-02-03_07-33-45\n",
            "Number of trials: 1/1 (1 TERMINATED)\n",
            "+-------------------------+------------+-------------------+--------------+---------------+------------+-------------+----------------------+\n",
            "| Trial name              | status     | loc               |   train_loss |   train_score |   val_loss |   val_score |   training_iteration |\n",
            "|-------------------------+------------+-------------------+--------------+---------------+------------+-------------+----------------------|\n",
            "| train_model_178f9_00000 | TERMINATED | 172.28.0.12:68645 |     0.146635 |      0.583151 |    0.16159 |    0.582682 |                   10 |\n",
            "+-------------------------+------------+-------------------+--------------+---------------+------------+-------------+----------------------+\n",
            "\n",
            "\n"
          ]
        },
        {
          "data": {
            "text/plain": [
              "<ray.tune.analysis.experiment_analysis.ExperimentAnalysis at 0x7fcad8620d30>"
            ]
          },
          "execution_count": 4,
          "metadata": {},
          "output_type": "execute_result"
        }
      ],
      "source": [
        "# === training with std. loss ===\n",
        "\n",
        "checkpoint_dir = local_dir if executing_on_colab else (os.path.abspath('./' + local_dir) + '/')\n",
        "cfg = {\n",
        "    \"lr\": learning_rate,\n",
        "    \"lr_scheduler\": \"none\",\n",
        "    \"batch_size\": batch_size,\n",
        "    \"loss\": \"std\",\n",
        "    \"from_checkpoint\": False,\n",
        "    \"checkpoint_dir\": checkpoint_dir\n",
        "    }\n",
        "\n",
        "model = unet.UNet(out_channels=n_classes)\n",
        "loss_fn = nn.CrossEntropyLoss()\n",
        "\n",
        "tune.run(partial(training_and_testing.train_model,\n",
        "                 device=device, model=model, dataset=train_dataset, n_epochs=n_epochs,\n",
        "                 score_fn=score_fn, loss_fn=loss_fn, optimizer=optimizer, num_workers=(0, 0),\n",
        "                 evaluate=True, class_weights=class_weights),\n",
        "         config=cfg,\n",
        "         num_samples=num_samples,\n",
        "         resources_per_trial={\"cpu\": cpus_per_trial, \"gpu\": gpus_per_trial},\n",
        "         progress_reporter=reporter,\n",
        "         checkpoint_at_end=True,\n",
        "         checkpoint_freq=1,\n",
        "         local_dir=local_dir)"
      ]
    },
    {
      "cell_type": "code",
      "execution_count": null,
      "metadata": {
        "id": "sXPg-hh-HMfa"
      },
      "outputs": [],
      "source": [
        "# downloading updated training results if running on colab\n",
        "! if test $executing_on_colab = 'True' ; then zip -r $checkpoint_archive $checkpoint_path ; fi\n",
        "if executing_on_colab:\n",
        "    files.download(checkpoint_archive)"
      ]
    },
    {
      "cell_type": "code",
      "execution_count": 9,
      "metadata": {
        "colab": {
          "base_uri": "https://localhost:8080/",
          "height": 1000
        },
        "id": "gcc0o48YHMfb",
        "outputId": "7bdd4bee-4f3d-4b9e-f877-47f1479f9829"
      },
      "outputs": [
        {
          "name": "stderr",
          "output_type": "stream",
          "text": [
            "2023-02-03 08:31:29,904\tWARNING worker.py:1851 -- Warning: The actor ImplicitFunc is very large (32 MiB). Check that its definition is not implicitly capturing a large array or other object in scope. Tip: use ray.put() to put large objects in the Ray object store.\n",
            "2023-02-03 08:31:29,959\tWARNING util.py:244 -- The `start_trial` operation took 0.799 s, which may be a performance bottleneck.\n"
          ]
        },
        {
          "name": "stdout",
          "output_type": "stream",
          "text": [
            "== Status ==\n",
            "Current time: 2023-02-03 08:31:29 (running for 00:00:01.19)\n",
            "Memory usage on this node: 4.1/12.7 GiB \n",
            "Using FIFO scheduling algorithm.\n",
            "Resources requested: 0/2 CPUs, 1.0/1 GPUs, 0.0/7.4 GiB heap, 0.0/3.7 GiB objects\n",
            "Result logdir: /content/deep-seasonal-color-analysis-system/models/loss_selection/UNet/train_model_2023-02-03_08-31-28\n",
            "Number of trials: 1/1 (1 RUNNING)\n",
            "+-------------------------+----------+-------------------+\n",
            "| Trial name              | status   | loc               |\n",
            "|-------------------------+----------+-------------------|\n",
            "| train_model_2796c_00000 | RUNNING  | 172.28.0.12:83571 |\n",
            "+-------------------------+----------+-------------------+\n",
            "\n",
            "\n"
          ]
        },
        {
          "data": {
            "text/html": [
              "<div class=\"trialProgress\">\n",
              "  <h3>Trial Progress</h3>\n",
              "  <table>\n",
              "<thead>\n",
              "<tr><th>Trial name             </th><th>date               </th><th>done  </th><th>episodes_total  </th><th>experiment_id                   </th><th style=\"text-align: right;\">  experiment_tag</th><th>hostname    </th><th style=\"text-align: right;\">  iterations_since_restore</th><th>node_ip    </th><th style=\"text-align: right;\">  pid</th><th style=\"text-align: right;\">  time_since_restore</th><th style=\"text-align: right;\">  time_this_iter_s</th><th style=\"text-align: right;\">  time_total_s</th><th style=\"text-align: right;\">  timestamp</th><th style=\"text-align: right;\">  timesteps_since_restore</th><th>timesteps_total  </th><th style=\"text-align: right;\">  train_loss</th><th style=\"text-align: right;\">  train_score</th><th style=\"text-align: right;\">  training_iteration</th><th>trial_id   </th><th style=\"text-align: right;\">  val_loss</th><th style=\"text-align: right;\">  val_score</th><th style=\"text-align: right;\">  warmup_time</th></tr>\n",
              "</thead>\n",
              "<tbody>\n",
              "<tr><td>train_model_2796c_00000</td><td>2023-02-03_09-16-27</td><td>True  </td><td>                </td><td>7e6f181c218c41f2a75962bd8310949f</td><td style=\"text-align: right;\">               0</td><td>195247e2f7e8</td><td style=\"text-align: right;\">                        10</td><td>172.28.0.12</td><td style=\"text-align: right;\">83571</td><td style=\"text-align: right;\">             2693.82</td><td style=\"text-align: right;\">           268.739</td><td style=\"text-align: right;\">       2693.82</td><td style=\"text-align: right;\"> 1675415787</td><td style=\"text-align: right;\">                        0</td><td>                 </td><td style=\"text-align: right;\">    0.106541</td><td style=\"text-align: right;\">     0.588667</td><td style=\"text-align: right;\">                  10</td><td>2796c_00000</td><td style=\"text-align: right;\">  0.114313</td><td style=\"text-align: right;\">   0.576191</td><td style=\"text-align: right;\">    0.0035944</td></tr>\n",
              "</tbody>\n",
              "</table>\n",
              "</div>\n",
              "<style>\n",
              ".trialProgress {\n",
              "  display: flex;\n",
              "  flex-direction: column;\n",
              "  color: var(--jp-ui-font-color1);\n",
              "}\n",
              ".trialProgress h3 {\n",
              "  font-weight: bold;\n",
              "}\n",
              ".trialProgress td {\n",
              "  white-space: nowrap;\n",
              "}\n",
              "</style>\n"
            ],
            "text/plain": [
              "<IPython.core.display.HTML object>"
            ]
          },
          "metadata": {},
          "output_type": "display_data"
        },
        {
          "name": "stdout",
          "output_type": "stream",
          "text": [
            "== Status ==\n",
            "Current time: 2023-02-03 08:41:34 (running for 00:10:05.83)\n",
            "Memory usage on this node: 7.1/12.7 GiB \n",
            "Using FIFO scheduling algorithm.\n",
            "Resources requested: 0/2 CPUs, 1.0/1 GPUs, 0.0/7.4 GiB heap, 0.0/3.7 GiB objects\n",
            "Result logdir: /content/deep-seasonal-color-analysis-system/models/loss_selection/UNet/train_model_2023-02-03_08-31-28\n",
            "Number of trials: 1/1 (1 RUNNING)\n",
            "+-------------------------+----------+-------------------+--------------+---------------+------------+-------------+----------------------+\n",
            "| Trial name              | status   | loc               |   train_loss |   train_score |   val_loss |   val_score |   training_iteration |\n",
            "|-------------------------+----------+-------------------+--------------+---------------+------------+-------------+----------------------|\n",
            "| train_model_2796c_00000 | RUNNING  | 172.28.0.12:83571 |     0.401208 |      0.328908 |   0.390659 |      0.3283 |                    2 |\n",
            "+-------------------------+----------+-------------------+--------------+---------------+------------+-------------+----------------------+\n",
            "\n",
            "\n",
            "== Status ==\n",
            "Current time: 2023-02-03 08:51:37 (running for 00:20:08.70)\n",
            "Memory usage on this node: 7.1/12.7 GiB \n",
            "Using FIFO scheduling algorithm.\n",
            "Resources requested: 0/2 CPUs, 1.0/1 GPUs, 0.0/7.4 GiB heap, 0.0/3.7 GiB objects\n",
            "Result logdir: /content/deep-seasonal-color-analysis-system/models/loss_selection/UNet/train_model_2023-02-03_08-31-28\n",
            "Number of trials: 1/1 (1 RUNNING)\n",
            "+-------------------------+----------+-------------------+--------------+---------------+------------+-------------+----------------------+\n",
            "| Trial name              | status   | loc               |   train_loss |   train_score |   val_loss |   val_score |   training_iteration |\n",
            "|-------------------------+----------+-------------------+--------------+---------------+------------+-------------+----------------------|\n",
            "| train_model_2796c_00000 | RUNNING  | 172.28.0.12:83571 |     0.286474 |      0.370092 |   0.253007 |     0.38173 |                    4 |\n",
            "+-------------------------+----------+-------------------+--------------+---------------+------------+-------------+----------------------+\n",
            "\n",
            "\n",
            "== Status ==\n",
            "Current time: 2023-02-03 09:01:40 (running for 00:30:11.37)\n",
            "Memory usage on this node: 7.1/12.7 GiB \n",
            "Using FIFO scheduling algorithm.\n",
            "Resources requested: 0/2 CPUs, 1.0/1 GPUs, 0.0/7.4 GiB heap, 0.0/3.7 GiB objects\n",
            "Result logdir: /content/deep-seasonal-color-analysis-system/models/loss_selection/UNet/train_model_2023-02-03_08-31-28\n",
            "Number of trials: 1/1 (1 RUNNING)\n",
            "+-------------------------+----------+-------------------+--------------+---------------+------------+-------------+----------------------+\n",
            "| Trial name              | status   | loc               |   train_loss |   train_score |   val_loss |   val_score |   training_iteration |\n",
            "|-------------------------+----------+-------------------+--------------+---------------+------------+-------------+----------------------|\n",
            "| train_model_2796c_00000 | RUNNING  | 172.28.0.12:83571 |     0.189167 |      0.466198 |   0.201882 |    0.441088 |                    6 |\n",
            "+-------------------------+----------+-------------------+--------------+---------------+------------+-------------+----------------------+\n",
            "\n",
            "\n",
            "== Status ==\n",
            "Current time: 2023-02-03 09:11:43 (running for 00:40:15.19)\n",
            "Memory usage on this node: 7.1/12.7 GiB \n",
            "Using FIFO scheduling algorithm.\n",
            "Resources requested: 0/2 CPUs, 1.0/1 GPUs, 0.0/7.4 GiB heap, 0.0/3.7 GiB objects\n",
            "Result logdir: /content/deep-seasonal-color-analysis-system/models/loss_selection/UNet/train_model_2023-02-03_08-31-28\n",
            "Number of trials: 1/1 (1 RUNNING)\n",
            "+-------------------------+----------+-------------------+--------------+---------------+------------+-------------+----------------------+\n",
            "| Trial name              | status   | loc               |   train_loss |   train_score |   val_loss |   val_score |   training_iteration |\n",
            "|-------------------------+----------+-------------------+--------------+---------------+------------+-------------+----------------------|\n",
            "| train_model_2796c_00000 | RUNNING  | 172.28.0.12:83571 |     0.137691 |      0.541737 |   0.135797 |    0.572323 |                    8 |\n",
            "+-------------------------+----------+-------------------+--------------+---------------+------------+-------------+----------------------+\n",
            "\n",
            "\n"
          ]
        },
        {
          "name": "stderr",
          "output_type": "stream",
          "text": [
            "2023-02-03 09:16:27,513\tINFO tune.py:762 -- Total run time: 2699.33 seconds (2698.62 seconds for the tuning loop).\n"
          ]
        },
        {
          "name": "stdout",
          "output_type": "stream",
          "text": [
            "== Status ==\n",
            "Current time: 2023-02-03 09:16:27 (running for 00:44:58.63)\n",
            "Memory usage on this node: 7.1/12.7 GiB \n",
            "Using FIFO scheduling algorithm.\n",
            "Resources requested: 0/2 CPUs, 0/1 GPUs, 0.0/7.4 GiB heap, 0.0/3.7 GiB objects\n",
            "Result logdir: /content/deep-seasonal-color-analysis-system/models/loss_selection/UNet/train_model_2023-02-03_08-31-28\n",
            "Number of trials: 1/1 (1 TERMINATED)\n",
            "+-------------------------+------------+-------------------+--------------+---------------+------------+-------------+----------------------+\n",
            "| Trial name              | status     | loc               |   train_loss |   train_score |   val_loss |   val_score |   training_iteration |\n",
            "|-------------------------+------------+-------------------+--------------+---------------+------------+-------------+----------------------|\n",
            "| train_model_2796c_00000 | TERMINATED | 172.28.0.12:83571 |     0.106541 |      0.588667 |   0.114313 |    0.576191 |                   10 |\n",
            "+-------------------------+------------+-------------------+--------------+---------------+------------+-------------+----------------------+\n",
            "\n",
            "\n"
          ]
        },
        {
          "data": {
            "text/plain": [
              "<ray.tune.analysis.experiment_analysis.ExperimentAnalysis at 0x7fcac04fee20>"
            ]
          },
          "execution_count": 9,
          "metadata": {},
          "output_type": "execute_result"
        }
      ],
      "source": [
        "# === training with std. loss ===\n",
        "\n",
        "cfg[\"loss\"] = \"weighted\"\n",
        "\n",
        "model = unet.UNet(out_channels=n_classes)\n",
        "loss_fn = nn.CrossEntropyLoss(weight=class_weights)\n",
        "\n",
        "tune.run(partial(training_and_testing.train_model,\n",
        "                 device=device, model=model, dataset=train_dataset, n_epochs=n_epochs,\n",
        "                 score_fn=score_fn, loss_fn=loss_fn, optimizer=optimizer, num_workers=(0, 0),\n",
        "                 evaluate=True, class_weights=class_weights),\n",
        "         config=cfg,\n",
        "         num_samples=num_samples,\n",
        "         resources_per_trial={\"cpu\": cpus_per_trial, \"gpu\": gpus_per_trial},\n",
        "         progress_reporter=reporter,\n",
        "         checkpoint_at_end=True,\n",
        "         checkpoint_freq=1,\n",
        "         local_dir=local_dir)"
      ]
    },
    {
      "cell_type": "code",
      "execution_count": null,
      "metadata": {
        "id": "T9BEIEjIXh96"
      },
      "outputs": [],
      "source": [
        "# downloading updated training results if running on colab\n",
        "! if test $executing_on_colab = 'True' ; then zip -r $checkpoint_archive $checkpoint_path ; fi\n",
        "if executing_on_colab:\n",
        "    files.download(checkpoint_archive)"
      ]
    }
  ],
  "metadata": {
    "accelerator": "GPU",
    "colab": {
      "provenance": []
    },
    "gpuClass": "standard",
    "kernelspec": {
      "display_name": "Python 3",
      "language": "python",
      "name": "python3"
    },
    "language_info": {
      "codemirror_mode": {
        "name": "ipython",
        "version": 3
      },
      "file_extension": ".py",
      "mimetype": "text/x-python",
      "name": "python",
      "nbconvert_exporter": "python",
      "pygments_lexer": "ipython3",
      "version": "3.9.0 (tags/v3.9.0:9cf6752, Oct  5 2020, 15:34:40) [MSC v.1927 64 bit (AMD64)]"
    },
    "orig_nbformat": 4,
    "vscode": {
      "interpreter": {
        "hash": "82f66c251be9d40cacb10d5ee31b9d775ddf82f4eb2e1565bb5820a0e364e9ae"
      }
    }
  },
  "nbformat": 4,
  "nbformat_minor": 0
}
