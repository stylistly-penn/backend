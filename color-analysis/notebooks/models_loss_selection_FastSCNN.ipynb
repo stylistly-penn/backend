{
  "cells": [
    {
      "cell_type": "code",
      "execution_count": null,
      "metadata": {
        "colab": {
          "base_uri": "https://localhost:8080/"
        },
        "id": "8ulxDNcSNOq9",
        "outputId": "6296d90b-779e-4532-d334-8950da5ee140"
      },
      "outputs": [],
      "source": [
        "# === colab configuration ===\n",
        "# p.s. when training on colab, weights are saved on Drive (directory DSCAS/weights).\n",
        "# p.p.s. skip this cell if running demo file locally!\n",
        "\n",
        "! pip install torch-summary\n",
        "! pip install ray\n",
        "! pip install tensorboardX==2.5.1\n",
        "! pip install tensorboard==2.11.2\n",
        "from google.colab import drive, files\n",
        "import sys\n",
        "\n",
        "# setting paths\n",
        "repository_path = '/content/deep-seasonal-color-analysis-system/'\n",
        "dataset_path = repository_path + 'headsegmentation_dataset_ccncsa/'\n",
        "dataset_path_drive = '/content/drive/MyDrive/DSCAS/headsegmentation_dataset_ccncsa/'\n",
        "weights_path = repository_path + 'models/weights/'\n",
        "weights_path_drive = '/content/drive/MyDrive/DSCAS/weights/'\n",
        "checkpoint_path = repository_path + 'models/loss_selection/'\n",
        "checkpoint_archive = '/content/' + checkpoint_path.split('/')[-2] + '.zip'\n",
        "\n",
        "sys.path.insert(0, repository_path)\n",
        "\n",
        "# cloning project repository and downloading dataset\n",
        "drive.mount('/content/drive')\n",
        "! test ! -d $repository_path && git clone https://github.com/mrcmich/deep-seasonal-color-analysis-system.git\n",
        "! test ! -d $dataset_path && cp -R $dataset_path_drive $dataset_path\n",
        "%cd $repository_path\n",
        "\n",
        "# setting branch and pulling updates\n",
        "branch = 'main'\n",
        "! git checkout $branch\n",
        "! git pull origin $branch\n",
        "\n",
        "executing_on_colab = True"
      ]
    },
    {
      "cell_type": "code",
      "execution_count": 1,
      "metadata": {
        "id": "PUNWSumyhhyN"
      },
      "outputs": [],
      "source": [
        "import os\n",
        "import torch\n",
        "from torch import nn, optim\n",
        "import torchvision.transforms as T\n",
        "from sklearn.model_selection import train_test_split\n",
        "from models import dataset, training_and_testing\n",
        "from models.local.FastSCNN.models import fast_scnn\n",
        "from metrics_and_losses import metrics\n",
        "from utils import segmentation_labels, custom_transforms, model_names\n",
        "from models import config\n",
        "from slurm_scripts import slurm_config\n",
        "from ray import tune\n",
        "from ray.tune import CLIReporter\n",
        "from functools import partial\n",
        "\n",
        "try:\n",
        "  executing_on_colab\n",
        "except NameError:\n",
        "  executing_on_colab = False\n",
        "  weights_path = config.WEIGHTS_PATH\n",
        "  dataset_path = config.DATASET_PATH\n",
        "  checkpoint_path = config.LOSS_SELECTION_PATH"
      ]
    },
    {
      "cell_type": "code",
      "execution_count": 10,
      "metadata": {
        "id": "pSBN1RIFhhyP"
      },
      "outputs": [],
      "source": [
        "# defining transforms\n",
        "image_transform = T.Compose([T.Resize(slurm_config.GLOBAL_INPUT_SIZE_TRAINING_DEMO), T.Normalize(config.NORMALIZE_MEAN, config.NORMALIZE_STD)])\n",
        "target_transform = T.Compose([T.Resize(slurm_config.GLOBAL_INPUT_SIZE_TRAINING_DEMO)])\n",
        "\n",
        "# fetching dataset\n",
        "n_classes = len(segmentation_labels.labels)\n",
        "img_paths, label_paths = dataset.get_paths(dataset_path, file_name=config.DATASET_INDEX_NAME)\n",
        "X_train, _, Y_train, _ = train_test_split(\n",
        "    img_paths, label_paths, test_size=0.20, random_state=99, shuffle=True)\n",
        "train_dataset = dataset.CcncsaDataset(X_train, Y_train, image_transform, target_transform)\n",
        "\n",
        "# model parameters\n",
        "model_name = \"fastscnn\"\n",
        "optimizer = optim.Adam\n",
        "\n",
        "# setting up hyperparameters for training\n",
        "device = 'cuda' if torch.cuda.is_available() else 'cpu'\n",
        "n_epochs = 10\n",
        "batch_size = 32\n",
        "score_fn = metrics.batch_mIoU\n",
        "learning_rate = 0.01\n",
        "class_weights = torch.tensor(config.CLASS_WEIGHTS, device=device)\n",
        "\n",
        "# Ray Tune parameters\n",
        "cpus_per_trial = 0\n",
        "gpus_per_trial = torch.cuda.device_count()\n",
        "num_samples = 1  # Number of times each combination is sampled (n_epochs are done per sample)\n",
        "metric = \"val_loss\"\n",
        "metrics_columns = [\"train_loss\", \"train_score\", \"val_loss\", \"val_score\", \"training_iteration\"]\n",
        "local_dir = checkpoint_path + model_names.MODEL_NAMES[model_name]\n",
        "max_report_frequency = 600\n",
        "reporter = CLIReporter(\n",
        "    metric_columns=metrics_columns, max_report_frequency=max_report_frequency)"
      ]
    },
    {
      "cell_type": "code",
      "execution_count": 11,
      "metadata": {
        "colab": {
          "base_uri": "https://localhost:8080/",
          "height": 1000
        },
        "id": "_8sEbia3RSv6",
        "outputId": "53bc93e4-3d9a-4c50-b9fd-e01f647ed460"
      },
      "outputs": [
        {
          "name": "stdout",
          "output_type": "stream",
          "text": [
            "== Status ==\n",
            "Current time: 2023-02-02 23:21:29 (running for 00:00:00.39)\n",
            "Memory usage on this node: 3.8/12.7 GiB \n",
            "Using FIFO scheduling algorithm.\n",
            "Resources requested: 0/2 CPUs, 1.0/1 GPUs, 0.0/7.41 GiB heap, 0.0/3.71 GiB objects\n",
            "Result logdir: /content/deep-seasonal-color-analysis-system/models/loss_selection/FastSCNN/train_model_2023-02-02_23-21-28\n",
            "Number of trials: 1/1 (1 RUNNING)\n",
            "+-------------------------+----------+-------------------+\n",
            "| Trial name              | status   | loc               |\n",
            "|-------------------------+----------+-------------------|\n",
            "| train_model_5222b_00000 | RUNNING  | 172.28.0.12:71783 |\n",
            "+-------------------------+----------+-------------------+\n",
            "\n",
            "\n"
          ]
        },
        {
          "data": {
            "text/html": [
              "<div class=\"trialProgress\">\n",
              "  <h3>Trial Progress</h3>\n",
              "  <table>\n",
              "<thead>\n",
              "<tr><th>Trial name             </th><th>date               </th><th>done  </th><th>episodes_total  </th><th>experiment_id                   </th><th>hostname    </th><th style=\"text-align: right;\">  iterations_since_restore</th><th>node_ip    </th><th style=\"text-align: right;\">  pid</th><th style=\"text-align: right;\">  time_since_restore</th><th style=\"text-align: right;\">  time_this_iter_s</th><th style=\"text-align: right;\">  time_total_s</th><th style=\"text-align: right;\">  timestamp</th><th style=\"text-align: right;\">  timesteps_since_restore</th><th>timesteps_total  </th><th style=\"text-align: right;\">  train_loss</th><th style=\"text-align: right;\">  train_score</th><th style=\"text-align: right;\">  training_iteration</th><th>trial_id   </th><th style=\"text-align: right;\">  val_loss</th><th style=\"text-align: right;\">  val_score</th><th style=\"text-align: right;\">  warmup_time</th></tr>\n",
              "</thead>\n",
              "<tbody>\n",
              "<tr><td>train_model_5222b_00000</td><td>2023-02-02_23-37-09</td><td>False </td><td>                </td><td>3f21c765e05e44e4923a9340f990f7f2</td><td>e1d69cf4f5ed</td><td style=\"text-align: right;\">                         4</td><td>172.28.0.12</td><td style=\"text-align: right;\">71783</td><td style=\"text-align: right;\">             937.007</td><td style=\"text-align: right;\">           232.219</td><td style=\"text-align: right;\">       937.007</td><td style=\"text-align: right;\"> 1675381029</td><td style=\"text-align: right;\">                        0</td><td>                 </td><td style=\"text-align: right;\">    0.188376</td><td style=\"text-align: right;\">     0.539164</td><td style=\"text-align: right;\">                   4</td><td>5222b_00000</td><td style=\"text-align: right;\">   0.17864</td><td style=\"text-align: right;\">   0.563957</td><td style=\"text-align: right;\">   0.00322461</td></tr>\n",
              "</tbody>\n",
              "</table>\n",
              "</div>\n",
              "<style>\n",
              ".trialProgress {\n",
              "  display: flex;\n",
              "  flex-direction: column;\n",
              "  color: var(--jp-ui-font-color1);\n",
              "}\n",
              ".trialProgress h3 {\n",
              "  font-weight: bold;\n",
              "}\n",
              ".trialProgress td {\n",
              "  white-space: nowrap;\n",
              "}\n",
              "</style>\n"
            ],
            "text/plain": [
              "<IPython.core.display.HTML object>"
            ]
          },
          "metadata": {},
          "output_type": "display_data"
        },
        {
          "name": "stdout",
          "output_type": "stream",
          "text": [
            "== Status ==\n",
            "Current time: 2023-02-02 23:31:29 (running for 00:10:00.51)\n",
            "Memory usage on this node: 6.8/12.7 GiB \n",
            "Using FIFO scheduling algorithm.\n",
            "Resources requested: 0/2 CPUs, 1.0/1 GPUs, 0.0/7.41 GiB heap, 0.0/3.71 GiB objects\n",
            "Result logdir: /content/deep-seasonal-color-analysis-system/models/loss_selection/FastSCNN/train_model_2023-02-02_23-21-28\n",
            "Number of trials: 1/1 (1 RUNNING)\n",
            "+-------------------------+----------+-------------------+--------------+---------------+------------+-------------+----------------------+\n",
            "| Trial name              | status   | loc               |   train_loss |   train_score |   val_loss |   val_score |   training_iteration |\n",
            "|-------------------------+----------+-------------------+--------------+---------------+------------+-------------+----------------------|\n",
            "| train_model_5222b_00000 | RUNNING  | 172.28.0.12:71783 |      0.27751 |      0.453381 |   0.253308 |    0.491895 |                    2 |\n",
            "+-------------------------+----------+-------------------+--------------+---------------+------------+-------------+----------------------+\n",
            "\n",
            "\n"
          ]
        },
        {
          "data": {
            "text/html": [
              "<div class=\"trialProgress\">\n",
              "  <h3>Trial Progress</h3>\n",
              "  <table>\n",
              "<thead>\n",
              "<tr><th>Trial name             </th><th>date               </th><th>done  </th><th>episodes_total  </th><th>experiment_id                   </th><th style=\"text-align: right;\">  experiment_tag</th><th>hostname    </th><th style=\"text-align: right;\">  iterations_since_restore</th><th>node_ip    </th><th style=\"text-align: right;\">  pid</th><th style=\"text-align: right;\">  time_since_restore</th><th style=\"text-align: right;\">  time_this_iter_s</th><th style=\"text-align: right;\">  time_total_s</th><th style=\"text-align: right;\">  timestamp</th><th style=\"text-align: right;\">  timesteps_since_restore</th><th>timesteps_total  </th><th style=\"text-align: right;\">  train_loss</th><th style=\"text-align: right;\">  train_score</th><th style=\"text-align: right;\">  training_iteration</th><th>trial_id   </th><th style=\"text-align: right;\">  val_loss</th><th style=\"text-align: right;\">  val_score</th><th style=\"text-align: right;\">  warmup_time</th></tr>\n",
              "</thead>\n",
              "<tbody>\n",
              "<tr><td>train_model_5222b_00000</td><td>2023-02-03_00-00-08</td><td>True  </td><td>                </td><td>3f21c765e05e44e4923a9340f990f7f2</td><td style=\"text-align: right;\">               0</td><td>e1d69cf4f5ed</td><td style=\"text-align: right;\">                        10</td><td>172.28.0.12</td><td style=\"text-align: right;\">71783</td><td style=\"text-align: right;\">             2315.54</td><td style=\"text-align: right;\">           228.708</td><td style=\"text-align: right;\">       2315.54</td><td style=\"text-align: right;\"> 1675382408</td><td style=\"text-align: right;\">                        0</td><td>                 </td><td style=\"text-align: right;\">    0.121823</td><td style=\"text-align: right;\">     0.616494</td><td style=\"text-align: right;\">                  10</td><td>5222b_00000</td><td style=\"text-align: right;\">  0.143779</td><td style=\"text-align: right;\">   0.607815</td><td style=\"text-align: right;\">   0.00322461</td></tr>\n",
              "</tbody>\n",
              "</table>\n",
              "</div>\n",
              "<style>\n",
              ".trialProgress {\n",
              "  display: flex;\n",
              "  flex-direction: column;\n",
              "  color: var(--jp-ui-font-color1);\n",
              "}\n",
              ".trialProgress h3 {\n",
              "  font-weight: bold;\n",
              "}\n",
              ".trialProgress td {\n",
              "  white-space: nowrap;\n",
              "}\n",
              "</style>\n"
            ],
            "text/plain": [
              "<IPython.core.display.HTML object>"
            ]
          },
          "metadata": {},
          "output_type": "display_data"
        },
        {
          "name": "stdout",
          "output_type": "stream",
          "text": [
            "== Status ==\n",
            "Current time: 2023-02-02 23:41:30 (running for 00:20:01.72)\n",
            "Memory usage on this node: 6.5/12.7 GiB \n",
            "Using FIFO scheduling algorithm.\n",
            "Resources requested: 0/2 CPUs, 1.0/1 GPUs, 0.0/7.41 GiB heap, 0.0/3.71 GiB objects\n",
            "Result logdir: /content/deep-seasonal-color-analysis-system/models/loss_selection/FastSCNN/train_model_2023-02-02_23-21-28\n",
            "Number of trials: 1/1 (1 RUNNING)\n",
            "+-------------------------+----------+-------------------+--------------+---------------+------------+-------------+----------------------+\n",
            "| Trial name              | status   | loc               |   train_loss |   train_score |   val_loss |   val_score |   training_iteration |\n",
            "|-------------------------+----------+-------------------+--------------+---------------+------------+-------------+----------------------|\n",
            "| train_model_5222b_00000 | RUNNING  | 172.28.0.12:71783 |     0.173217 |      0.556892 |   0.155691 |    0.588691 |                    5 |\n",
            "+-------------------------+----------+-------------------+--------------+---------------+------------+-------------+----------------------+\n",
            "\n",
            "\n",
            "== Status ==\n",
            "Current time: 2023-02-02 23:51:35 (running for 00:30:06.31)\n",
            "Memory usage on this node: 6.5/12.7 GiB \n",
            "Using FIFO scheduling algorithm.\n",
            "Resources requested: 0/2 CPUs, 1.0/1 GPUs, 0.0/7.41 GiB heap, 0.0/3.71 GiB objects\n",
            "Result logdir: /content/deep-seasonal-color-analysis-system/models/loss_selection/FastSCNN/train_model_2023-02-02_23-21-28\n",
            "Number of trials: 1/1 (1 RUNNING)\n",
            "+-------------------------+----------+-------------------+--------------+---------------+------------+-------------+----------------------+\n",
            "| Trial name              | status   | loc               |   train_loss |   train_score |   val_loss |   val_score |   training_iteration |\n",
            "|-------------------------+----------+-------------------+--------------+---------------+------------+-------------+----------------------|\n",
            "| train_model_5222b_00000 | RUNNING  | 172.28.0.12:71783 |     0.144505 |      0.587671 |   0.140643 |    0.588852 |                    7 |\n",
            "+-------------------------+----------+-------------------+--------------+---------------+------------+-------------+----------------------+\n",
            "\n",
            "\n"
          ]
        },
        {
          "name": "stderr",
          "output_type": "stream",
          "text": [
            "2023-02-03 00:00:08,299\tINFO tune.py:762 -- Total run time: 2319.52 seconds (2319.28 seconds for the tuning loop).\n"
          ]
        },
        {
          "name": "stdout",
          "output_type": "stream",
          "text": [
            "== Status ==\n",
            "Current time: 2023-02-03 00:00:08 (running for 00:38:39.28)\n",
            "Memory usage on this node: 6.5/12.7 GiB \n",
            "Using FIFO scheduling algorithm.\n",
            "Resources requested: 0/2 CPUs, 0/1 GPUs, 0.0/7.41 GiB heap, 0.0/3.71 GiB objects\n",
            "Result logdir: /content/deep-seasonal-color-analysis-system/models/loss_selection/FastSCNN/train_model_2023-02-02_23-21-28\n",
            "Number of trials: 1/1 (1 TERMINATED)\n",
            "+-------------------------+------------+-------------------+--------------+---------------+------------+-------------+----------------------+\n",
            "| Trial name              | status     | loc               |   train_loss |   train_score |   val_loss |   val_score |   training_iteration |\n",
            "|-------------------------+------------+-------------------+--------------+---------------+------------+-------------+----------------------|\n",
            "| train_model_5222b_00000 | TERMINATED | 172.28.0.12:71783 |     0.121823 |      0.616494 |   0.143779 |    0.607815 |                   10 |\n",
            "+-------------------------+------------+-------------------+--------------+---------------+------------+-------------+----------------------+\n",
            "\n",
            "\n"
          ]
        },
        {
          "data": {
            "text/plain": [
              "<ray.tune.analysis.experiment_analysis.ExperimentAnalysis at 0x7fe900683370>"
            ]
          },
          "execution_count": 11,
          "metadata": {},
          "output_type": "execute_result"
        }
      ],
      "source": [
        "# === training with std. loss ===\n",
        "\n",
        "checkpoint_dir = local_dir if executing_on_colab else (os.path.abspath('./' + local_dir) + '/')\n",
        "cfg = {\n",
        "    \"lr\": learning_rate,\n",
        "    \"lr_scheduler\": \"none\",\n",
        "    \"batch_size\": batch_size,\n",
        "    \"loss\": \"std\",\n",
        "    \"from_checkpoint\": False,\n",
        "    \"checkpoint_dir\": checkpoint_dir\n",
        "    }\n",
        "\n",
        "model = fast_scnn.FastSCNN(n_classes)\n",
        "loss_fn = nn.CrossEntropyLoss()\n",
        "\n",
        "tune.run(partial(training_and_testing.train_model,\n",
        "                 device=device, model=model, dataset=train_dataset, n_epochs=n_epochs,\n",
        "                 score_fn=score_fn, loss_fn=loss_fn, optimizer=optimizer, num_workers=(0, 0),\n",
        "                 evaluate=True, class_weights=class_weights),\n",
        "         config=cfg,\n",
        "         num_samples=num_samples,\n",
        "         resources_per_trial={\"cpu\": cpus_per_trial, \"gpu\": gpus_per_trial},\n",
        "         progress_reporter=reporter,\n",
        "         checkpoint_at_end=True,\n",
        "         checkpoint_freq=1,\n",
        "         local_dir=local_dir)"
      ]
    },
    {
      "cell_type": "code",
      "execution_count": null,
      "metadata": {
        "colab": {
          "base_uri": "https://localhost:8080/",
          "height": 766
        },
        "id": "tydnmR-5RSv7",
        "outputId": "c1827b66-99f9-41bd-ae76-13db4bb75271"
      },
      "outputs": [],
      "source": [
        "# downloading updated training results if running on colab\n",
        "! if test $executing_on_colab = 'True' ; then zip -r $checkpoint_archive $checkpoint_path ; fi\n",
        "if executing_on_colab:\n",
        "    files.download(checkpoint_archive)"
      ]
    },
    {
      "cell_type": "code",
      "execution_count": 13,
      "metadata": {
        "colab": {
          "base_uri": "https://localhost:8080/",
          "height": 1000
        },
        "id": "1V1WAXFyRSv7",
        "outputId": "b07e95a8-e7ae-450b-9d91-21bbee8402d7"
      },
      "outputs": [
        {
          "name": "stdout",
          "output_type": "stream",
          "text": [
            "== Status ==\n",
            "Current time: 2023-02-03 00:02:07 (running for 00:00:00.59)\n",
            "Memory usage on this node: 3.7/12.7 GiB \n",
            "Using FIFO scheduling algorithm.\n",
            "Resources requested: 0/2 CPUs, 1.0/1 GPUs, 0.0/7.41 GiB heap, 0.0/3.71 GiB objects\n",
            "Result logdir: /content/deep-seasonal-color-analysis-system/models/loss_selection/FastSCNN/train_model_2023-02-03_00-02-06\n",
            "Number of trials: 1/1 (1 RUNNING)\n",
            "+-------------------------+----------+-------------------+\n",
            "| Trial name              | status   | loc               |\n",
            "|-------------------------+----------+-------------------|\n",
            "| train_model_ff19c_00000 | RUNNING  | 172.28.0.12:82187 |\n",
            "+-------------------------+----------+-------------------+\n",
            "\n",
            "\n"
          ]
        },
        {
          "data": {
            "text/html": [
              "<div class=\"trialProgress\">\n",
              "  <h3>Trial Progress</h3>\n",
              "  <table>\n",
              "<thead>\n",
              "<tr><th>Trial name             </th><th>date               </th><th>done  </th><th>episodes_total  </th><th>experiment_id                   </th><th>hostname    </th><th style=\"text-align: right;\">  iterations_since_restore</th><th>node_ip    </th><th style=\"text-align: right;\">  pid</th><th style=\"text-align: right;\">  time_since_restore</th><th style=\"text-align: right;\">  time_this_iter_s</th><th style=\"text-align: right;\">  time_total_s</th><th style=\"text-align: right;\">  timestamp</th><th style=\"text-align: right;\">  timesteps_since_restore</th><th>timesteps_total  </th><th style=\"text-align: right;\">  train_loss</th><th style=\"text-align: right;\">  train_score</th><th style=\"text-align: right;\">  training_iteration</th><th>trial_id   </th><th style=\"text-align: right;\">  val_loss</th><th style=\"text-align: right;\">  val_score</th><th style=\"text-align: right;\">  warmup_time</th></tr>\n",
              "</thead>\n",
              "<tbody>\n",
              "<tr><td>train_model_ff19c_00000</td><td>2023-02-03_00-14-12</td><td>False </td><td>                </td><td>ef0034fa9b924411b4fd366fc606baa3</td><td>e1d69cf4f5ed</td><td style=\"text-align: right;\">                         3</td><td>172.28.0.12</td><td style=\"text-align: right;\">82187</td><td style=\"text-align: right;\">             716.396</td><td style=\"text-align: right;\">           237.706</td><td style=\"text-align: right;\">       716.396</td><td style=\"text-align: right;\"> 1675383252</td><td style=\"text-align: right;\">                        0</td><td>                 </td><td style=\"text-align: right;\">    0.155291</td><td style=\"text-align: right;\">     0.514425</td><td style=\"text-align: right;\">                   3</td><td>ff19c_00000</td><td style=\"text-align: right;\">  0.160536</td><td style=\"text-align: right;\">   0.537647</td><td style=\"text-align: right;\">   0.00337434</td></tr>\n",
              "</tbody>\n",
              "</table>\n",
              "</div>\n",
              "<style>\n",
              ".trialProgress {\n",
              "  display: flex;\n",
              "  flex-direction: column;\n",
              "  color: var(--jp-ui-font-color1);\n",
              "}\n",
              ".trialProgress h3 {\n",
              "  font-weight: bold;\n",
              "}\n",
              ".trialProgress td {\n",
              "  white-space: nowrap;\n",
              "}\n",
              "</style>\n"
            ],
            "text/plain": [
              "<IPython.core.display.HTML object>"
            ]
          },
          "metadata": {},
          "output_type": "display_data"
        },
        {
          "name": "stdout",
          "output_type": "stream",
          "text": [
            "== Status ==\n",
            "Current time: 2023-02-03 00:12:09 (running for 00:10:02.99)\n",
            "Memory usage on this node: 6.8/12.7 GiB \n",
            "Using FIFO scheduling algorithm.\n",
            "Resources requested: 0/2 CPUs, 1.0/1 GPUs, 0.0/7.41 GiB heap, 0.0/3.71 GiB objects\n",
            "Result logdir: /content/deep-seasonal-color-analysis-system/models/loss_selection/FastSCNN/train_model_2023-02-03_00-02-06\n",
            "Number of trials: 1/1 (1 RUNNING)\n",
            "+-------------------------+----------+-------------------+--------------+---------------+------------+-------------+----------------------+\n",
            "| Trial name              | status   | loc               |   train_loss |   train_score |   val_loss |   val_score |   training_iteration |\n",
            "|-------------------------+----------+-------------------+--------------+---------------+------------+-------------+----------------------|\n",
            "| train_model_ff19c_00000 | RUNNING  | 172.28.0.12:82187 |     0.195225 |      0.465376 |    0.17531 |    0.454516 |                    2 |\n",
            "+-------------------------+----------+-------------------+--------------+---------------+------------+-------------+----------------------+\n",
            "\n",
            "\n"
          ]
        },
        {
          "data": {
            "text/html": [
              "<div class=\"trialProgress\">\n",
              "  <h3>Trial Progress</h3>\n",
              "  <table>\n",
              "<thead>\n",
              "<tr><th>Trial name             </th><th>date               </th><th>done  </th><th>episodes_total  </th><th>experiment_id                   </th><th style=\"text-align: right;\">  experiment_tag</th><th>hostname    </th><th style=\"text-align: right;\">  iterations_since_restore</th><th>node_ip    </th><th style=\"text-align: right;\">  pid</th><th style=\"text-align: right;\">  time_since_restore</th><th style=\"text-align: right;\">  time_this_iter_s</th><th style=\"text-align: right;\">  time_total_s</th><th style=\"text-align: right;\">  timestamp</th><th style=\"text-align: right;\">  timesteps_since_restore</th><th>timesteps_total  </th><th style=\"text-align: right;\">  train_loss</th><th style=\"text-align: right;\">  train_score</th><th style=\"text-align: right;\">  training_iteration</th><th>trial_id   </th><th style=\"text-align: right;\">  val_loss</th><th style=\"text-align: right;\">  val_score</th><th style=\"text-align: right;\">  warmup_time</th></tr>\n",
              "</thead>\n",
              "<tbody>\n",
              "<tr><td>train_model_ff19c_00000</td><td>2023-02-03_00-41-30</td><td>True  </td><td>                </td><td>ef0034fa9b924411b4fd366fc606baa3</td><td style=\"text-align: right;\">               0</td><td>e1d69cf4f5ed</td><td style=\"text-align: right;\">                        10</td><td>172.28.0.12</td><td style=\"text-align: right;\">82187</td><td style=\"text-align: right;\">             2354.76</td><td style=\"text-align: right;\">           233.112</td><td style=\"text-align: right;\">       2354.76</td><td style=\"text-align: right;\"> 1675384890</td><td style=\"text-align: right;\">                        0</td><td>                 </td><td style=\"text-align: right;\">   0.0831663</td><td style=\"text-align: right;\">     0.620111</td><td style=\"text-align: right;\">                  10</td><td>ff19c_00000</td><td style=\"text-align: right;\"> 0.0842378</td><td style=\"text-align: right;\">    0.63575</td><td style=\"text-align: right;\">   0.00337434</td></tr>\n",
              "</tbody>\n",
              "</table>\n",
              "</div>\n",
              "<style>\n",
              ".trialProgress {\n",
              "  display: flex;\n",
              "  flex-direction: column;\n",
              "  color: var(--jp-ui-font-color1);\n",
              "}\n",
              ".trialProgress h3 {\n",
              "  font-weight: bold;\n",
              "}\n",
              ".trialProgress td {\n",
              "  white-space: nowrap;\n",
              "}\n",
              "</style>\n"
            ],
            "text/plain": [
              "<IPython.core.display.HTML object>"
            ]
          },
          "metadata": {},
          "output_type": "display_data"
        },
        {
          "name": "stdout",
          "output_type": "stream",
          "text": [
            "== Status ==\n",
            "Current time: 2023-02-03 00:22:14 (running for 00:20:07.98)\n",
            "Memory usage on this node: 6.5/12.7 GiB \n",
            "Using FIFO scheduling algorithm.\n",
            "Resources requested: 0/2 CPUs, 1.0/1 GPUs, 0.0/7.41 GiB heap, 0.0/3.71 GiB objects\n",
            "Result logdir: /content/deep-seasonal-color-analysis-system/models/loss_selection/FastSCNN/train_model_2023-02-03_00-02-06\n",
            "Number of trials: 1/1 (1 RUNNING)\n",
            "+-------------------------+----------+-------------------+--------------+---------------+------------+-------------+----------------------+\n",
            "| Trial name              | status   | loc               |   train_loss |   train_score |   val_loss |   val_score |   training_iteration |\n",
            "|-------------------------+----------+-------------------+--------------+---------------+------------+-------------+----------------------|\n",
            "| train_model_ff19c_00000 | RUNNING  | 172.28.0.12:82187 |     0.114568 |      0.568347 |   0.128339 |    0.545919 |                    5 |\n",
            "+-------------------------+----------+-------------------+--------------+---------------+------------+-------------+----------------------+\n",
            "\n",
            "\n",
            "== Status ==\n",
            "Current time: 2023-02-03 00:32:14 (running for 00:30:08.31)\n",
            "Memory usage on this node: 6.5/12.7 GiB \n",
            "Using FIFO scheduling algorithm.\n",
            "Resources requested: 0/2 CPUs, 1.0/1 GPUs, 0.0/7.41 GiB heap, 0.0/3.71 GiB objects\n",
            "Result logdir: /content/deep-seasonal-color-analysis-system/models/loss_selection/FastSCNN/train_model_2023-02-03_00-02-06\n",
            "Number of trials: 1/1 (1 RUNNING)\n",
            "+-------------------------+----------+-------------------+--------------+---------------+------------+-------------+----------------------+\n",
            "| Trial name              | status   | loc               |   train_loss |   train_score |   val_loss |   val_score |   training_iteration |\n",
            "|-------------------------+----------+-------------------+--------------+---------------+------------+-------------+----------------------|\n",
            "| train_model_ff19c_00000 | RUNNING  | 172.28.0.12:82187 |     0.097617 |      0.596156 |   0.105363 |     0.61034 |                    7 |\n",
            "+-------------------------+----------+-------------------+--------------+---------------+------------+-------------+----------------------+\n",
            "\n",
            "\n"
          ]
        },
        {
          "name": "stderr",
          "output_type": "stream",
          "text": [
            "2023-02-03 00:41:30,710\tINFO tune.py:762 -- Total run time: 2364.37 seconds (2364.02 seconds for the tuning loop).\n"
          ]
        },
        {
          "name": "stdout",
          "output_type": "stream",
          "text": [
            "== Status ==\n",
            "Current time: 2023-02-03 00:41:30 (running for 00:39:24.03)\n",
            "Memory usage on this node: 6.5/12.7 GiB \n",
            "Using FIFO scheduling algorithm.\n",
            "Resources requested: 0/2 CPUs, 0/1 GPUs, 0.0/7.41 GiB heap, 0.0/3.71 GiB objects\n",
            "Result logdir: /content/deep-seasonal-color-analysis-system/models/loss_selection/FastSCNN/train_model_2023-02-03_00-02-06\n",
            "Number of trials: 1/1 (1 TERMINATED)\n",
            "+-------------------------+------------+-------------------+--------------+---------------+------------+-------------+----------------------+\n",
            "| Trial name              | status     | loc               |   train_loss |   train_score |   val_loss |   val_score |   training_iteration |\n",
            "|-------------------------+------------+-------------------+--------------+---------------+------------+-------------+----------------------|\n",
            "| train_model_ff19c_00000 | TERMINATED | 172.28.0.12:82187 |    0.0831663 |      0.620111 |  0.0842378 |     0.63575 |                   10 |\n",
            "+-------------------------+------------+-------------------+--------------+---------------+------------+-------------+----------------------+\n",
            "\n",
            "\n"
          ]
        },
        {
          "data": {
            "text/plain": [
              "<ray.tune.analysis.experiment_analysis.ExperimentAnalysis at 0x7fe9b8db9400>"
            ]
          },
          "execution_count": 13,
          "metadata": {},
          "output_type": "execute_result"
        }
      ],
      "source": [
        "# === training with weighted loss ===\n",
        "\n",
        "cfg[\"loss\"] = \"weighted\"\n",
        "\n",
        "model = fast_scnn.FastSCNN(n_classes)\n",
        "loss_fn = nn.CrossEntropyLoss(weight=class_weights)\n",
        "\n",
        "tune.run(partial(training_and_testing.train_model,\n",
        "                 device=device, model=model, dataset=train_dataset, n_epochs=n_epochs,\n",
        "                 score_fn=score_fn, loss_fn=loss_fn, optimizer=optimizer, num_workers=(0, 0),\n",
        "                 evaluate=True, class_weights=class_weights),\n",
        "         config=cfg,\n",
        "         num_samples=num_samples,\n",
        "         resources_per_trial={\"cpu\": cpus_per_trial, \"gpu\": gpus_per_trial},\n",
        "         progress_reporter=reporter,\n",
        "         checkpoint_at_end=True,\n",
        "         checkpoint_freq=1,\n",
        "         local_dir=local_dir)"
      ]
    },
    {
      "cell_type": "code",
      "execution_count": null,
      "metadata": {
        "colab": {
          "base_uri": "https://localhost:8080/",
          "height": 991
        },
        "id": "JUI71Vb7RSv8",
        "outputId": "319cb216-09ce-4cdb-bdf5-db69ab2c2f63"
      },
      "outputs": [],
      "source": [
        "# downloading updated training results if running on colab\n",
        "! if test $executing_on_colab = 'True' ; then zip -r $checkpoint_archive $checkpoint_path ; fi\n",
        "if executing_on_colab:\n",
        "    files.download(checkpoint_archive)"
      ]
    }
  ],
  "metadata": {
    "accelerator": "GPU",
    "colab": {
      "provenance": []
    },
    "gpuClass": "standard",
    "kernelspec": {
      "display_name": "cv",
      "language": "python",
      "name": "python3"
    },
    "language_info": {
      "codemirror_mode": {
        "name": "ipython",
        "version": 3
      },
      "file_extension": ".py",
      "mimetype": "text/x-python",
      "name": "python",
      "nbconvert_exporter": "python",
      "pygments_lexer": "ipython3",
      "version": "3.9.6"
    },
    "orig_nbformat": 4,
    "vscode": {
      "interpreter": {
        "hash": "bff6c79cdac020ac98a972002b5dbe7766c5a0fccfcd9b44550d7582f6eef17b"
      }
    }
  },
  "nbformat": 4,
  "nbformat_minor": 0
}
