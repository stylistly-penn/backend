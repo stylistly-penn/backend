{
  "cells": [
    {
      "cell_type": "code",
      "execution_count": null,
      "metadata": {
        "colab": {
          "base_uri": "https://localhost:8080/"
        },
        "id": "8ulxDNcSNOq9",
        "outputId": "9ac5077d-4aab-41d3-f380-db073a5596b8",
        "pycharm": {
          "is_executing": true
        }
      },
      "outputs": [],
      "source": [
        "# === colab configuration ===\n",
        "# p.s. when training on colab, weights are saved on Drive (directory DSCAS/weights).\n",
        "# p.p.s. skip this cell if running demo file locally!\n",
        "\n",
        "! pip install torch-summary\n",
        "! pip install ray\n",
        "from google.colab import drive\n",
        "import sys\n",
        "\n",
        "# setting paths\n",
        "repository_path = '/content/deep-seasonal-color-analysis-system/'\n",
        "dataset_path = repository_path + 'headsegmentation_dataset_ccncsa/'\n",
        "dataset_path_drive = '/content/drive/MyDrive/DSCAS/headsegmentation_dataset_ccncsa/'\n",
        "weights_path = repository_path + 'models/weights/'\n",
        "weights_path_drive = '/content/drive/MyDrive/DSCAS/weights/'\n",
        "sys.path.insert(0, repository_path)\n",
        "\n",
        "# cloning project repository and downloading dataset\n",
        "drive.mount('/content/drive')\n",
        "! test ! -d $repository_path && git clone https://github.com/mrcmich/deep-seasonal-color-analysis-system.git\n",
        "! test ! -d $dataset_path && cp -R $dataset_path_drive $dataset_path\n",
        "%cd $repository_path\n",
        "\n",
        "# setting branch and pulling updates\n",
        "branch = 'main'\n",
        "! git checkout $branch\n",
        "! git pull origin $branch\n",
        "\n",
        "executing_on_colab = True"
      ]
    },
    {
      "cell_type": "code",
      "execution_count": 3,
      "metadata": {
        "colab": {
          "base_uri": "https://localhost:8080/"
        },
        "id": "OFs1vTpH6Fbe",
        "outputId": "3392d835-af94-4636-9ccc-a7cf1ad935b2",
        "pycharm": {
          "is_executing": true
        }
      },
      "outputs": [
        {
          "name": "stdout",
          "output_type": "stream",
          "text": [
            "mean: tensor([0.3954, 0.3269, 0.2831])\n",
            "var: tensor([0.0632, 0.0555, 0.0533])\n",
            "std: tensor([0.2513, 0.2356, 0.2309])\n"
          ]
        }
      ],
      "source": [
        "import torch\n",
        "from torch import nn\n",
        "import torchvision.transforms as T\n",
        "from torch.utils.data import DataLoader\n",
        "from sklearn.model_selection import train_test_split\n",
        "from models import dataset, training_and_testing\n",
        "from models.local.FastSCNN.models import fast_scnn\n",
        "from metrics_and_losses import metrics\n",
        "from utils import segmentation_labels, utils\n",
        "import matplotlib.pyplot as plt\n",
        "from palette_classification import color_processing\n",
        "import torchsummary\n",
        "from models import config\n",
        "\n",
        "\n",
        "dataset_path = config.ROOT_DIR + 'headsegmentation_dataset_ccncsa/'\n",
        "\n",
        "# defining transforms\n",
        "tH, tW = 256, 256 # image sizes must be multiple of 16\n",
        "transform = T.Compose([T.CenterCrop((tH, tW))])\n",
        "\n",
        "# fetching dataset\n",
        "n_classes = len(segmentation_labels.labels)\n",
        "img_paths, label_paths = dataset.get_paths(dataset_path, file_name=config.DATASET_INDEX_NAME)\n",
        "X_train, X_test, Y_train, Y_test = train_test_split(img_paths, label_paths, test_size=0.20, random_state=99, shuffle=True)\n",
        "train_dataset = dataset.CcncsaDataset(X_train, Y_train, transform)\n",
        "\n",
        "# data loader\n",
        "image_loader = DataLoader(train_dataset, \n",
        "                          batch_size=32,\n",
        "                          drop_last=False)\n",
        "\n",
        "psum = torch.zeros(3, dtype=torch.float32)\n",
        "psum_sq = torch.zeros(3, dtype=torch.float32)\n",
        "\n",
        "for image, _ in image_loader:\n",
        "    psum += image.sum(dim=[0, 2, 3])\n",
        "    psum_sq += (image ** 2).sum(dim=[0, 2, 3])\n",
        "\n",
        "count = len(train_dataset) * tH * tW\n",
        "\n",
        "mean = psum / count\n",
        "var  = (psum_sq / count) - (mean ** 2)\n",
        "std  = torch.sqrt(var)\n",
        "print(f'mean: {mean}')\n",
        "print(f'var: {var}')\n",
        "print(f'std: {std}')"
      ]
    }
  ],
  "metadata": {
    "accelerator": "GPU",
    "colab": {
      "provenance": []
    },
    "gpuClass": "standard",
    "kernelspec": {
      "display_name": "cv",
      "language": "python",
      "name": "python3"
    },
    "language_info": {
      "codemirror_mode": {
        "name": "ipython",
        "version": 3
      },
      "file_extension": ".py",
      "mimetype": "text/x-python",
      "name": "python",
      "nbconvert_exporter": "python",
      "pygments_lexer": "ipython3",
      "version": "3.9.6"
    },
    "orig_nbformat": 4,
    "vscode": {
      "interpreter": {
        "hash": "bff6c79cdac020ac98a972002b5dbe7766c5a0fccfcd9b44550d7582f6eef17b"
      }
    }
  },
  "nbformat": 4,
  "nbformat_minor": 0
}
