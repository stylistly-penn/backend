{
  "cells": [
    {
      "cell_type": "code",
      "execution_count": null,
      "metadata": {
        "colab": {
          "base_uri": "https://localhost:8080/"
        },
        "id": "8ulxDNcSNOq9",
        "outputId": "4149baf2-eee5-4624-d4f8-7fc427c5b1d3"
      },
      "outputs": [],
      "source": [
        "# === colab configuration ===\n",
        "# p.s. when training on colab, weights are saved on Drive (directory DSCAS/weights).\n",
        "# p.p.s. skip this cell if running demo file locally!\n",
        "\n",
        "! pip install torch-summary\n",
        "! pip install ray\n",
        "! pip install tensorboardX==2.5.1\n",
        "! pip install tensorboard==2.11.2\n",
        "from google.colab import drive, files\n",
        "import sys\n",
        "\n",
        "# setting paths\n",
        "repository_path = '/content/deep-seasonal-color-analysis-system/'\n",
        "dataset_path = repository_path + 'headsegmentation_dataset_ccncsa/'\n",
        "dataset_path_drive = '/content/drive/MyDrive/DSCAS/headsegmentation_dataset_ccncsa/'\n",
        "weights_path = repository_path + 'models/weights/'\n",
        "weights_path_drive = '/content/drive/MyDrive/DSCAS/weights/'\n",
        "checkpoint_path = repository_path + 'models/preprocessing/'\n",
        "checkpoint_archive = '/content/' + checkpoint_path.split('/')[-2] + '.zip'\n",
        "\n",
        "sys.path.insert(0, repository_path)\n",
        "\n",
        "# cloning project repository and downloading dataset\n",
        "drive.mount('/content/drive')\n",
        "! test ! -d $repository_path && git clone https://github.com/mrcmich/deep-seasonal-color-analysis-system.git\n",
        "! test ! -d $dataset_path && cp -R $dataset_path_drive $dataset_path\n",
        "%cd $repository_path\n",
        "\n",
        "# setting branch and pulling updates\n",
        "branch = 'main'\n",
        "! git checkout $branch\n",
        "! git pull origin $branch\n",
        "\n",
        "executing_on_colab = True"
      ]
    },
    {
      "cell_type": "code",
      "execution_count": 2,
      "metadata": {
        "id": "PUNWSumyhhyN"
      },
      "outputs": [],
      "source": [
        "import os\n",
        "import torch\n",
        "from torch import nn, optim\n",
        "import torchvision.transforms as T\n",
        "from sklearn.model_selection import train_test_split\n",
        "from models import dataset, training_and_testing\n",
        "from models.cloud.UNet import unet\n",
        "from metrics_and_losses import metrics\n",
        "from utils import segmentation_labels, custom_transforms, model_names\n",
        "from models import config\n",
        "from slurm_scripts import slurm_config\n",
        "from ray import tune\n",
        "from ray.tune import CLIReporter\n",
        "from functools import partial\n",
        "\n",
        "try:\n",
        "  executing_on_colab\n",
        "except NameError:\n",
        "  executing_on_colab = False\n",
        "  weights_path = config.WEIGHTS_PATH\n",
        "  dataset_path = config.DATASET_PATH\n",
        "  checkpoint_path = config.PREPROCESSING_PATH"
      ]
    },
    {
      "cell_type": "code",
      "execution_count": 3,
      "metadata": {
        "id": "pSBN1RIFhhyP"
      },
      "outputs": [],
      "source": [
        "# === defining transforms ===\n",
        "\n",
        "diameter = 7\n",
        "sigma_color = 50\n",
        "sigma_space = 100\n",
        "horizontal_flip = custom_transforms.PartiallyDeterministicHorizontalFlip(p=0.5)\n",
        "center_crop = custom_transforms.PartiallyDeterministicCenterCrop(p=0.5)\n",
        "\n",
        "image_transform = T.Compose([\n",
        "    T.Resize(slurm_config.GLOBAL_INPUT_SIZE_TRAINING_DEMO), \n",
        "    custom_transforms.BilateralFilter(sigma_color, sigma_space, diameter), \n",
        "    T.Normalize(config.NORMALIZE_MEAN, config.NORMALIZE_STD)])\n",
        "\n",
        "target_transform = T.Compose([T.Resize(slurm_config.GLOBAL_INPUT_SIZE_TRAINING_DEMO)])\n",
        "\n",
        "# fetching dataset\n",
        "n_classes = len(segmentation_labels.labels)\n",
        "img_paths, label_paths = dataset.get_paths(dataset_path, file_name=config.DATASET_INDEX_NAME)\n",
        "X_train, _, Y_train, _ = train_test_split(img_paths, label_paths, test_size=0.20, random_state=99, shuffle=True)\n",
        "train_dataset = dataset.CcncsaDataset(X_train, Y_train, image_transform, target_transform)\n",
        "\n",
        "# model parameters\n",
        "model_name = \"unet\"\n",
        "model = unet.UNet(out_channels=n_classes)\n",
        "optimizer = optim.Adam\n",
        "\n",
        "# setting up hyperparameters for training\n",
        "device = 'cuda' if torch.cuda.is_available() else 'cpu'\n",
        "n_epochs = 10\n",
        "batch_size = 32\n",
        "loss_fn = nn.CrossEntropyLoss()\n",
        "score_fn = metrics.batch_mIoU\n",
        "learning_rate = 0.01\n",
        "class_weights = torch.tensor(config.CLASS_WEIGHTS, device=device)\n",
        "\n",
        "# Ray Tune parameters\n",
        "cpus_per_trial = 0\n",
        "gpus_per_trial = torch.cuda.device_count()\n",
        "num_samples = 1  # Number of times each combination is sampled (n_epochs are done per sample)\n",
        "metric = \"val_loss\"\n",
        "metrics_columns = [\"train_loss\", \"train_score\", \"val_loss\", \"val_score\", \"training_iteration\"]\n",
        "local_dir = checkpoint_path + model_names.MODEL_NAMES[model_name]\n",
        "max_report_frequency = 600\n",
        "reporter = CLIReporter(\n",
        "    metric_columns=metrics_columns, max_report_frequency=max_report_frequency)"
      ]
    },
    {
      "cell_type": "code",
      "execution_count": null,
      "metadata": {
        "colab": {
          "base_uri": "https://localhost:8080/",
          "height": 1000
        },
        "id": "P9goVLwWZpJF",
        "outputId": "729d92c0-97c0-431f-89b3-43faf1dff81d",
        "pycharm": {
          "is_executing": true
        }
      },
      "outputs": [
        {
          "name": "stderr",
          "output_type": "stream",
          "text": [
            "2023-02-03 07:40:29,781\tINFO worker.py:1538 -- Started a local Ray instance.\n",
            "2023-02-03 07:40:34,247\tWARNING worker.py:1851 -- Warning: The actor ImplicitFunc is very large (32 MiB). Check that its definition is not implicitly capturing a large array or other object in scope. Tip: use ray.put() to put large objects in the Ray object store.\n"
          ]
        },
        {
          "name": "stdout",
          "output_type": "stream",
          "text": [
            "== Status ==\n",
            "Current time: 2023-02-03 07:40:34 (running for 00:00:01.29)\n",
            "Memory usage on this node: 4.0/12.7 GiB \n",
            "Using FIFO scheduling algorithm.\n",
            "Resources requested: 0/2 CPUs, 1.0/1 GPUs, 0.0/7.39 GiB heap, 0.0/3.69 GiB objects\n",
            "Result logdir: /content/deep-seasonal-color-analysis-system/models/preprocessing/UNet/train_model_2023-02-03_07-40-32\n",
            "Number of trials: 1/1 (1 RUNNING)\n",
            "+-------------------------+----------+-------------------+\n",
            "| Trial name              | status   | loc               |\n",
            "|-------------------------+----------+-------------------|\n",
            "| train_model_0a031_00000 | RUNNING  | 172.28.0.12:68484 |\n",
            "+-------------------------+----------+-------------------+\n",
            "\n",
            "\n"
          ]
        },
        {
          "data": {
            "text/html": [
              "<div class=\"trialProgress\">\n",
              "  <h3>Trial Progress</h3>\n",
              "  <table>\n",
              "<thead>\n",
              "<tr><th>Trial name             </th><th>date               </th><th>done  </th><th>episodes_total  </th><th>experiment_id                   </th><th style=\"text-align: right;\">  experiment_tag</th><th>hostname    </th><th style=\"text-align: right;\">  iterations_since_restore</th><th>node_ip    </th><th style=\"text-align: right;\">  pid</th><th style=\"text-align: right;\">  time_since_restore</th><th style=\"text-align: right;\">  time_this_iter_s</th><th style=\"text-align: right;\">  time_total_s</th><th style=\"text-align: right;\">  timestamp</th><th style=\"text-align: right;\">  timesteps_since_restore</th><th>timesteps_total  </th><th style=\"text-align: right;\">  train_loss</th><th style=\"text-align: right;\">  train_score</th><th style=\"text-align: right;\">  training_iteration</th><th>trial_id   </th><th style=\"text-align: right;\">  val_loss</th><th style=\"text-align: right;\">  val_score</th><th style=\"text-align: right;\">  warmup_time</th></tr>\n",
              "</thead>\n",
              "<tbody>\n",
              "<tr><td>train_model_0a031_00000</td><td>2023-02-03_08-37-07</td><td>True  </td><td>                </td><td>85bf0c216daa4f248d6bda6d30aaeb2d</td><td style=\"text-align: right;\">               0</td><td>2a2887f72dc2</td><td style=\"text-align: right;\">                        10</td><td>172.28.0.12</td><td style=\"text-align: right;\">68484</td><td style=\"text-align: right;\">             3389.39</td><td style=\"text-align: right;\">           336.489</td><td style=\"text-align: right;\">       3389.39</td><td style=\"text-align: right;\"> 1675413427</td><td style=\"text-align: right;\">                        0</td><td>                 </td><td style=\"text-align: right;\">    0.150644</td><td style=\"text-align: right;\">      0.57162</td><td style=\"text-align: right;\">                  10</td><td>0a031_00000</td><td style=\"text-align: right;\">  0.160575</td><td style=\"text-align: right;\">    0.59436</td><td style=\"text-align: right;\">   0.00316453</td></tr>\n",
              "</tbody>\n",
              "</table>\n",
              "</div>\n",
              "<style>\n",
              ".trialProgress {\n",
              "  display: flex;\n",
              "  flex-direction: column;\n",
              "  color: var(--jp-ui-font-color1);\n",
              "}\n",
              ".trialProgress h3 {\n",
              "  font-weight: bold;\n",
              "}\n",
              ".trialProgress td {\n",
              "  white-space: nowrap;\n",
              "}\n",
              "</style>\n"
            ],
            "text/plain": [
              "<IPython.core.display.HTML object>"
            ]
          },
          "metadata": {},
          "output_type": "display_data"
        },
        {
          "name": "stdout",
          "output_type": "stream",
          "text": [
            "== Status ==\n",
            "Current time: 2023-02-03 07:50:36 (running for 00:10:03.23)\n",
            "Memory usage on this node: 6.8/12.7 GiB \n",
            "Using FIFO scheduling algorithm.\n",
            "Resources requested: 0/2 CPUs, 1.0/1 GPUs, 0.0/7.39 GiB heap, 0.0/3.69 GiB objects\n",
            "Result logdir: /content/deep-seasonal-color-analysis-system/models/preprocessing/UNet/train_model_2023-02-03_07-40-32\n",
            "Number of trials: 1/1 (1 RUNNING)\n",
            "+-------------------------+----------+-------------------+--------------+---------------+------------+-------------+----------------------+\n",
            "| Trial name              | status   | loc               |   train_loss |   train_score |   val_loss |   val_score |   training_iteration |\n",
            "|-------------------------+----------+-------------------+--------------+---------------+------------+-------------+----------------------|\n",
            "| train_model_0a031_00000 | RUNNING  | 172.28.0.12:68484 |      0.71635 |      0.334862 |   0.694573 |    0.321099 |                    1 |\n",
            "+-------------------------+----------+-------------------+--------------+---------------+------------+-------------+----------------------+\n",
            "\n",
            "\n",
            "== Status ==\n",
            "Current time: 2023-02-03 08:00:40 (running for 00:20:06.91)\n",
            "Memory usage on this node: 6.8/12.7 GiB \n",
            "Using FIFO scheduling algorithm.\n",
            "Resources requested: 0/2 CPUs, 1.0/1 GPUs, 0.0/7.39 GiB heap, 0.0/3.69 GiB objects\n",
            "Result logdir: /content/deep-seasonal-color-analysis-system/models/preprocessing/UNet/train_model_2023-02-03_07-40-32\n",
            "Number of trials: 1/1 (1 RUNNING)\n",
            "+-------------------------+----------+-------------------+--------------+---------------+------------+-------------+----------------------+\n",
            "| Trial name              | status   | loc               |   train_loss |   train_score |   val_loss |   val_score |   training_iteration |\n",
            "|-------------------------+----------+-------------------+--------------+---------------+------------+-------------+----------------------|\n",
            "| train_model_0a031_00000 | RUNNING  | 172.28.0.12:68484 |     0.482079 |      0.365647 |   0.434417 |    0.371537 |                    3 |\n",
            "+-------------------------+----------+-------------------+--------------+---------------+------------+-------------+----------------------+\n",
            "\n",
            "\n",
            "== Status ==\n",
            "Current time: 2023-02-03 08:10:40 (running for 00:30:07.63)\n",
            "Memory usage on this node: 6.8/12.7 GiB \n",
            "Using FIFO scheduling algorithm.\n",
            "Resources requested: 0/2 CPUs, 1.0/1 GPUs, 0.0/7.39 GiB heap, 0.0/3.69 GiB objects\n",
            "Result logdir: /content/deep-seasonal-color-analysis-system/models/preprocessing/UNet/train_model_2023-02-03_07-40-32\n",
            "Number of trials: 1/1 (1 RUNNING)\n",
            "+-------------------------+----------+-------------------+--------------+---------------+------------+-------------+----------------------+\n",
            "| Trial name              | status   | loc               |   train_loss |   train_score |   val_loss |   val_score |   training_iteration |\n",
            "|-------------------------+----------+-------------------+--------------+---------------+------------+-------------+----------------------|\n",
            "| train_model_0a031_00000 | RUNNING  | 172.28.0.12:68484 |     0.338883 |      0.391806 |   0.356017 |    0.403235 |                    5 |\n",
            "+-------------------------+----------+-------------------+--------------+---------------+------------+-------------+----------------------+\n",
            "\n",
            "\n",
            "== Status ==\n",
            "Current time: 2023-02-03 08:20:42 (running for 00:40:09.31)\n",
            "Memory usage on this node: 6.8/12.7 GiB \n",
            "Using FIFO scheduling algorithm.\n",
            "Resources requested: 0/2 CPUs, 1.0/1 GPUs, 0.0/7.39 GiB heap, 0.0/3.69 GiB objects\n",
            "Result logdir: /content/deep-seasonal-color-analysis-system/models/preprocessing/UNet/train_model_2023-02-03_07-40-32\n",
            "Number of trials: 1/1 (1 RUNNING)\n",
            "+-------------------------+----------+-------------------+--------------+---------------+------------+-------------+----------------------+\n",
            "| Trial name              | status   | loc               |   train_loss |   train_score |   val_loss |   val_score |   training_iteration |\n",
            "|-------------------------+----------+-------------------+--------------+---------------+------------+-------------+----------------------|\n",
            "| train_model_0a031_00000 | RUNNING  | 172.28.0.12:68484 |     0.235382 |      0.467301 |   0.232219 |    0.484564 |                    7 |\n",
            "+-------------------------+----------+-------------------+--------------+---------------+------------+-------------+----------------------+\n",
            "\n",
            "\n",
            "== Status ==\n",
            "Current time: 2023-02-03 08:30:46 (running for 00:50:13.77)\n",
            "Memory usage on this node: 6.8/12.7 GiB \n",
            "Using FIFO scheduling algorithm.\n",
            "Resources requested: 0/2 CPUs, 1.0/1 GPUs, 0.0/7.39 GiB heap, 0.0/3.69 GiB objects\n",
            "Result logdir: /content/deep-seasonal-color-analysis-system/models/preprocessing/UNet/train_model_2023-02-03_07-40-32\n",
            "Number of trials: 1/1 (1 RUNNING)\n",
            "+-------------------------+----------+-------------------+--------------+---------------+------------+-------------+----------------------+\n",
            "| Trial name              | status   | loc               |   train_loss |   train_score |   val_loss |   val_score |   training_iteration |\n",
            "|-------------------------+----------+-------------------+--------------+---------------+------------+-------------+----------------------|\n",
            "| train_model_0a031_00000 | RUNNING  | 172.28.0.12:68484 |     0.204031 |      0.506168 |   0.215455 |    0.497792 |                    8 |\n",
            "+-------------------------+----------+-------------------+--------------+---------------+------------+-------------+----------------------+\n",
            "\n",
            "\n"
          ]
        },
        {
          "name": "stderr",
          "output_type": "stream",
          "text": [
            "2023-02-03 08:37:07,548\tINFO tune.py:762 -- Total run time: 3396.06 seconds (3394.34 seconds for the tuning loop).\n"
          ]
        },
        {
          "name": "stdout",
          "output_type": "stream",
          "text": [
            "== Status ==\n",
            "Current time: 2023-02-03 08:37:07 (running for 00:56:34.34)\n",
            "Memory usage on this node: 6.8/12.7 GiB \n",
            "Using FIFO scheduling algorithm.\n",
            "Resources requested: 0/2 CPUs, 0/1 GPUs, 0.0/7.39 GiB heap, 0.0/3.69 GiB objects\n",
            "Result logdir: /content/deep-seasonal-color-analysis-system/models/preprocessing/UNet/train_model_2023-02-03_07-40-32\n",
            "Number of trials: 1/1 (1 TERMINATED)\n",
            "+-------------------------+------------+-------------------+--------------+---------------+------------+-------------+----------------------+\n",
            "| Trial name              | status     | loc               |   train_loss |   train_score |   val_loss |   val_score |   training_iteration |\n",
            "|-------------------------+------------+-------------------+--------------+---------------+------------+-------------+----------------------|\n",
            "| train_model_0a031_00000 | TERMINATED | 172.28.0.12:68484 |     0.150644 |       0.57162 |   0.160575 |     0.59436 |                   10 |\n",
            "+-------------------------+------------+-------------------+--------------+---------------+------------+-------------+----------------------+\n",
            "\n",
            "\n"
          ]
        },
        {
          "data": {
            "text/plain": [
              "<ray.tune.analysis.experiment_analysis.ExperimentAnalysis at 0x7f6d5a7f3c40>"
            ]
          },
          "execution_count": 4,
          "metadata": {},
          "output_type": "execute_result"
        }
      ],
      "source": [
        "# === training without augmentation ===\n",
        "\n",
        "checkpoint_dir = local_dir if executing_on_colab else (os.path.abspath('./' + local_dir) + '/')\n",
        "cfg = {\n",
        "    \"lr\": learning_rate,\n",
        "    \"lr_scheduler\": \"none\",\n",
        "    \"batch_size\": batch_size,\n",
        "    \"transform\": \"none\",\n",
        "    \"from_checkpoint\": False,\n",
        "    \"checkpoint_dir\": checkpoint_dir\n",
        "    }\n",
        "\n",
        "tune.run(partial(training_and_testing.train_model,\n",
        "                 device=device, model=model, dataset=train_dataset, n_epochs=n_epochs,\n",
        "                 score_fn=score_fn, loss_fn=loss_fn, optimizer=optimizer, num_workers=(0, 0),\n",
        "                 evaluate=True, class_weights=class_weights),\n",
        "         config=cfg,\n",
        "         num_samples=num_samples,\n",
        "         resources_per_trial={\"cpu\": cpus_per_trial, \"gpu\": gpus_per_trial},\n",
        "         progress_reporter=reporter,\n",
        "         checkpoint_at_end=True,\n",
        "         checkpoint_freq=1,\n",
        "         local_dir=local_dir)"
      ]
    },
    {
      "cell_type": "code",
      "execution_count": null,
      "metadata": {
        "colab": {
          "base_uri": "https://localhost:8080/",
          "height": 466
        },
        "id": "3oxSD7oOKtNT",
        "outputId": "975a5fe5-26e8-4df5-ec0f-a2cc712a75d6"
      },
      "outputs": [],
      "source": [
        "# downloading updated training results if running on colab\n",
        "! if test $executing_on_colab = 'True' ; then zip -r $checkpoint_archive $checkpoint_path ; fi\n",
        "if executing_on_colab:\n",
        "    files.download(checkpoint_archive)"
      ]
    },
    {
      "cell_type": "code",
      "execution_count": null,
      "metadata": {
        "colab": {
          "base_uri": "https://localhost:8080/",
          "height": 1000
        },
        "id": "W3OpWYa3ZpJF",
        "outputId": "0b007748-cd9a-4075-e487-973bac2923f8"
      },
      "outputs": [
        {
          "name": "stderr",
          "output_type": "stream",
          "text": [
            "2023-02-03 08:47:44,120\tWARNING worker.py:1851 -- Warning: The actor ImplicitFunc is very large (32 MiB). Check that its definition is not implicitly capturing a large array or other object in scope. Tip: use ray.put() to put large objects in the Ray object store.\n",
            "2023-02-03 08:47:44,191\tWARNING util.py:244 -- The `start_trial` operation took 0.805 s, which may be a performance bottleneck.\n"
          ]
        },
        {
          "name": "stdout",
          "output_type": "stream",
          "text": [
            "== Status ==\n",
            "Current time: 2023-02-03 08:47:44 (running for 00:00:01.18)\n",
            "Memory usage on this node: 4.0/12.7 GiB \n",
            "Using FIFO scheduling algorithm.\n",
            "Resources requested: 0/2 CPUs, 1.0/1 GPUs, 0.0/7.39 GiB heap, 0.0/3.69 GiB objects\n",
            "Result logdir: /content/deep-seasonal-color-analysis-system/models/preprocessing/UNet/train_model_2023-02-03_08-47-42\n",
            "Number of trials: 1/1 (1 RUNNING)\n",
            "+-------------------------+----------+-------------------+\n",
            "| Trial name              | status   | loc               |\n",
            "|-------------------------+----------+-------------------|\n",
            "| train_model_6c3ff_00000 | RUNNING  | 172.28.0.12:86027 |\n",
            "+-------------------------+----------+-------------------+\n",
            "\n",
            "\n"
          ]
        },
        {
          "data": {
            "text/html": [
              "<div class=\"trialProgress\">\n",
              "  <h3>Trial Progress</h3>\n",
              "  <table>\n",
              "<thead>\n",
              "<tr><th>Trial name             </th><th>date               </th><th>done  </th><th>episodes_total  </th><th>experiment_id                   </th><th style=\"text-align: right;\">  experiment_tag</th><th>hostname    </th><th style=\"text-align: right;\">  iterations_since_restore</th><th>node_ip    </th><th style=\"text-align: right;\">  pid</th><th style=\"text-align: right;\">  time_since_restore</th><th style=\"text-align: right;\">  time_this_iter_s</th><th style=\"text-align: right;\">  time_total_s</th><th style=\"text-align: right;\">  timestamp</th><th style=\"text-align: right;\">  timesteps_since_restore</th><th>timesteps_total  </th><th style=\"text-align: right;\">  train_loss</th><th style=\"text-align: right;\">  train_score</th><th style=\"text-align: right;\">  training_iteration</th><th>trial_id   </th><th style=\"text-align: right;\">  val_loss</th><th style=\"text-align: right;\">  val_score</th><th style=\"text-align: right;\">  warmup_time</th></tr>\n",
              "</thead>\n",
              "<tbody>\n",
              "<tr><td>train_model_6c3ff_00000</td><td>2023-02-03_09-47-21</td><td>True  </td><td>                </td><td>b3027006f877478f8e27ad70a1b63d52</td><td style=\"text-align: right;\">               0</td><td>2a2887f72dc2</td><td style=\"text-align: right;\">                        10</td><td>172.28.0.12</td><td style=\"text-align: right;\">86027</td><td style=\"text-align: right;\">             3572.55</td><td style=\"text-align: right;\">           355.919</td><td style=\"text-align: right;\">       3572.55</td><td style=\"text-align: right;\"> 1675417641</td><td style=\"text-align: right;\">                        0</td><td>                 </td><td style=\"text-align: right;\">    0.143176</td><td style=\"text-align: right;\">     0.584405</td><td style=\"text-align: right;\">                  10</td><td>6c3ff_00000</td><td style=\"text-align: right;\">  0.162529</td><td style=\"text-align: right;\">   0.588042</td><td style=\"text-align: right;\">   0.00328732</td></tr>\n",
              "</tbody>\n",
              "</table>\n",
              "</div>\n",
              "<style>\n",
              ".trialProgress {\n",
              "  display: flex;\n",
              "  flex-direction: column;\n",
              "  color: var(--jp-ui-font-color1);\n",
              "}\n",
              ".trialProgress h3 {\n",
              "  font-weight: bold;\n",
              "}\n",
              ".trialProgress td {\n",
              "  white-space: nowrap;\n",
              "}\n",
              "</style>\n"
            ],
            "text/plain": [
              "<IPython.core.display.HTML object>"
            ]
          },
          "metadata": {},
          "output_type": "display_data"
        },
        {
          "name": "stdout",
          "output_type": "stream",
          "text": [
            "== Status ==\n",
            "Current time: 2023-02-03 08:57:47 (running for 00:10:04.64)\n",
            "Memory usage on this node: 7.0/12.7 GiB \n",
            "Using FIFO scheduling algorithm.\n",
            "Resources requested: 0/2 CPUs, 1.0/1 GPUs, 0.0/7.39 GiB heap, 0.0/3.69 GiB objects\n",
            "Result logdir: /content/deep-seasonal-color-analysis-system/models/preprocessing/UNet/train_model_2023-02-03_08-47-42\n",
            "Number of trials: 1/1 (1 RUNNING)\n",
            "+-------------------------+----------+-------------------+--------------+---------------+------------+-------------+----------------------+\n",
            "| Trial name              | status   | loc               |   train_loss |   train_score |   val_loss |   val_score |   training_iteration |\n",
            "|-------------------------+----------+-------------------+--------------+---------------+------------+-------------+----------------------|\n",
            "| train_model_6c3ff_00000 | RUNNING  | 172.28.0.12:86027 |     0.741406 |      0.326032 |   0.760862 |    0.317335 |                    1 |\n",
            "+-------------------------+----------+-------------------+--------------+---------------+------------+-------------+----------------------+\n",
            "\n",
            "\n",
            "== Status ==\n",
            "Current time: 2023-02-03 09:07:52 (running for 00:20:09.21)\n",
            "Memory usage on this node: 7.0/12.7 GiB \n",
            "Using FIFO scheduling algorithm.\n",
            "Resources requested: 0/2 CPUs, 1.0/1 GPUs, 0.0/7.39 GiB heap, 0.0/3.69 GiB objects\n",
            "Result logdir: /content/deep-seasonal-color-analysis-system/models/preprocessing/UNet/train_model_2023-02-03_08-47-42\n",
            "Number of trials: 1/1 (1 RUNNING)\n",
            "+-------------------------+----------+-------------------+--------------+---------------+------------+-------------+----------------------+\n",
            "| Trial name              | status   | loc               |   train_loss |   train_score |   val_loss |   val_score |   training_iteration |\n",
            "|-------------------------+----------+-------------------+--------------+---------------+------------+-------------+----------------------|\n",
            "| train_model_6c3ff_00000 | RUNNING  | 172.28.0.12:86027 |     0.522064 |      0.372278 |   0.491439 |    0.371272 |                    3 |\n",
            "+-------------------------+----------+-------------------+--------------+---------------+------------+-------------+----------------------+\n",
            "\n",
            "\n",
            "== Status ==\n",
            "Current time: 2023-02-03 09:17:53 (running for 00:30:10.73)\n",
            "Memory usage on this node: 7.0/12.7 GiB \n",
            "Using FIFO scheduling algorithm.\n",
            "Resources requested: 0/2 CPUs, 1.0/1 GPUs, 0.0/7.39 GiB heap, 0.0/3.69 GiB objects\n",
            "Result logdir: /content/deep-seasonal-color-analysis-system/models/preprocessing/UNet/train_model_2023-02-03_08-47-42\n",
            "Number of trials: 1/1 (1 RUNNING)\n",
            "+-------------------------+----------+-------------------+--------------+---------------+------------+-------------+----------------------+\n",
            "| Trial name              | status   | loc               |   train_loss |   train_score |   val_loss |   val_score |   training_iteration |\n",
            "|-------------------------+----------+-------------------+--------------+---------------+------------+-------------+----------------------|\n",
            "| train_model_6c3ff_00000 | RUNNING  | 172.28.0.12:86027 |      0.35525 |      0.405834 |   0.377412 |    0.391324 |                    5 |\n",
            "+-------------------------+----------+-------------------+--------------+---------------+------------+-------------+----------------------+\n",
            "\n",
            "\n",
            "== Status ==\n",
            "Current time: 2023-02-03 09:27:58 (running for 00:40:15.71)\n",
            "Memory usage on this node: 7.0/12.7 GiB \n",
            "Using FIFO scheduling algorithm.\n",
            "Resources requested: 0/2 CPUs, 1.0/1 GPUs, 0.0/7.39 GiB heap, 0.0/3.69 GiB objects\n",
            "Result logdir: /content/deep-seasonal-color-analysis-system/models/preprocessing/UNet/train_model_2023-02-03_08-47-42\n",
            "Number of trials: 1/1 (1 RUNNING)\n",
            "+-------------------------+----------+-------------------+--------------+---------------+------------+-------------+----------------------+\n",
            "| Trial name              | status   | loc               |   train_loss |   train_score |   val_loss |   val_score |   training_iteration |\n",
            "|-------------------------+----------+-------------------+--------------+---------------+------------+-------------+----------------------|\n",
            "| train_model_6c3ff_00000 | RUNNING  | 172.28.0.12:86027 |     0.296387 |      0.426841 |   0.281356 |    0.451815 |                    6 |\n",
            "+-------------------------+----------+-------------------+--------------+---------------+------------+-------------+----------------------+\n",
            "\n",
            "\n",
            "== Status ==\n",
            "Current time: 2023-02-03 09:38:03 (running for 00:50:20.22)\n",
            "Memory usage on this node: 7.0/12.7 GiB \n",
            "Using FIFO scheduling algorithm.\n",
            "Resources requested: 0/2 CPUs, 1.0/1 GPUs, 0.0/7.39 GiB heap, 0.0/3.69 GiB objects\n",
            "Result logdir: /content/deep-seasonal-color-analysis-system/models/preprocessing/UNet/train_model_2023-02-03_08-47-42\n",
            "Number of trials: 1/1 (1 RUNNING)\n",
            "+-------------------------+----------+-------------------+--------------+---------------+------------+-------------+----------------------+\n",
            "| Trial name              | status   | loc               |   train_loss |   train_score |   val_loss |   val_score |   training_iteration |\n",
            "|-------------------------+----------+-------------------+--------------+---------------+------------+-------------+----------------------|\n",
            "| train_model_6c3ff_00000 | RUNNING  | 172.28.0.12:86027 |      0.20129 |      0.484628 |   0.218253 |    0.485462 |                    8 |\n",
            "+-------------------------+----------+-------------------+--------------+---------------+------------+-------------+----------------------+\n",
            "\n",
            "\n"
          ]
        },
        {
          "name": "stderr",
          "output_type": "stream",
          "text": [
            "2023-02-03 09:47:21,599\tINFO tune.py:762 -- Total run time: 3579.24 seconds (3578.46 seconds for the tuning loop).\n"
          ]
        },
        {
          "name": "stdout",
          "output_type": "stream",
          "text": [
            "== Status ==\n",
            "Current time: 2023-02-03 09:47:21 (running for 00:59:38.47)\n",
            "Memory usage on this node: 7.0/12.7 GiB \n",
            "Using FIFO scheduling algorithm.\n",
            "Resources requested: 0/2 CPUs, 0/1 GPUs, 0.0/7.39 GiB heap, 0.0/3.69 GiB objects\n",
            "Result logdir: /content/deep-seasonal-color-analysis-system/models/preprocessing/UNet/train_model_2023-02-03_08-47-42\n",
            "Number of trials: 1/1 (1 TERMINATED)\n",
            "+-------------------------+------------+-------------------+--------------+---------------+------------+-------------+----------------------+\n",
            "| Trial name              | status     | loc               |   train_loss |   train_score |   val_loss |   val_score |   training_iteration |\n",
            "|-------------------------+------------+-------------------+--------------+---------------+------------+-------------+----------------------|\n",
            "| train_model_6c3ff_00000 | TERMINATED | 172.28.0.12:86027 |     0.143176 |      0.584405 |   0.162529 |    0.588042 |                   10 |\n",
            "+-------------------------+------------+-------------------+--------------+---------------+------------+-------------+----------------------+\n",
            "\n",
            "\n"
          ]
        },
        {
          "data": {
            "text/plain": [
              "<ray.tune.analysis.experiment_analysis.ExperimentAnalysis at 0x7f6d5769c7c0>"
            ]
          },
          "execution_count": 6,
          "metadata": {},
          "output_type": "execute_result"
        }
      ],
      "source": [
        "# === training with augmentation: ColorJitter ===\n",
        "\n",
        "image_transform_with_augmentation = T.Compose([\n",
        "    T.ColorJitter(brightness=0.25, contrast=0.25), \n",
        "    T.Resize(slurm_config.GLOBAL_INPUT_SIZE_TRAINING_DEMO), \n",
        "    custom_transforms.BilateralFilter(sigma_color, sigma_space, diameter), \n",
        "    T.Normalize(config.NORMALIZE_MEAN, config.NORMALIZE_STD)])\n",
        "\n",
        "train_dataset_with_augmentation = dataset.CcncsaDataset(\n",
        "    X_train, Y_train, image_transform_with_augmentation, target_transform)\n",
        "    \n",
        "model = unet.UNet(out_channels=n_classes)\n",
        "\n",
        "cfg[\"transform\"] = \"color_jitter\"\n",
        "\n",
        "tune.run(partial(training_and_testing.train_model,\n",
        "                 device=device, model=model, dataset=train_dataset_with_augmentation, n_epochs=n_epochs,\n",
        "                 score_fn=score_fn, loss_fn=loss_fn, optimizer=optimizer, num_workers=(0, 0),\n",
        "                 evaluate=True, class_weights=class_weights),\n",
        "         config=cfg,\n",
        "         num_samples=num_samples,\n",
        "         resources_per_trial={\"cpu\": cpus_per_trial, \"gpu\": gpus_per_trial},\n",
        "         progress_reporter=reporter,\n",
        "         checkpoint_at_end=True,\n",
        "         checkpoint_freq=1,\n",
        "         local_dir=local_dir)"
      ]
    },
    {
      "cell_type": "code",
      "execution_count": null,
      "metadata": {
        "colab": {
          "base_uri": "https://localhost:8080/",
          "height": 698
        },
        "id": "Pv0YkWDWKtNU",
        "outputId": "e1a223a9-fdcf-4662-b02c-dd65a4d61d26"
      },
      "outputs": [],
      "source": [
        "# downloading updated training results if running on colab\n",
        "! if test $executing_on_colab = 'True' ; then zip -r $checkpoint_archive $checkpoint_path ; fi\n",
        "if executing_on_colab:\n",
        "    files.download(checkpoint_archive)"
      ]
    },
    {
      "cell_type": "code",
      "execution_count": 5,
      "metadata": {
        "colab": {
          "base_uri": "https://localhost:8080/",
          "height": 1000
        },
        "id": "AUA9IB-DZpJF",
        "outputId": "29977c93-30b4-4c24-9c8d-bac151dd5b44"
      },
      "outputs": [
        {
          "name": "stderr",
          "output_type": "stream",
          "text": [
            "2023-02-03 12:41:59,815\tINFO worker.py:1538 -- Started a local Ray instance.\n",
            "2023-02-03 12:42:03,053\tWARNING worker.py:1851 -- Warning: The actor ImplicitFunc is very large (32 MiB). Check that its definition is not implicitly capturing a large array or other object in scope. Tip: use ray.put() to put large objects in the Ray object store.\n"
          ]
        },
        {
          "name": "stdout",
          "output_type": "stream",
          "text": [
            "== Status ==\n",
            "Current time: 2023-02-03 12:42:03 (running for 00:00:01.33)\n",
            "Memory usage on this node: 3.9/12.7 GiB \n",
            "Using FIFO scheduling algorithm.\n",
            "Resources requested: 0/2 CPUs, 1.0/1 GPUs, 0.0/7.41 GiB heap, 0.0/3.71 GiB objects\n",
            "Result logdir: /content/deep-seasonal-color-analysis-system/models/preprocessing/UNet/train_model_2023-02-03_12-42-01\n",
            "Number of trials: 1/1 (1 RUNNING)\n",
            "+-------------------------+----------+-------------------+\n",
            "| Trial name              | status   | loc               |\n",
            "|-------------------------+----------+-------------------|\n",
            "| train_model_27e40_00000 | RUNNING  | 172.28.0.12:61278 |\n",
            "+-------------------------+----------+-------------------+\n",
            "\n",
            "\n"
          ]
        },
        {
          "data": {
            "text/html": [
              "<div class=\"trialProgress\">\n",
              "  <h3>Trial Progress</h3>\n",
              "  <table>\n",
              "<thead>\n",
              "<tr><th>Trial name             </th><th>date               </th><th>done  </th><th>episodes_total  </th><th>experiment_id                   </th><th style=\"text-align: right;\">  experiment_tag</th><th>hostname    </th><th style=\"text-align: right;\">  iterations_since_restore</th><th>node_ip    </th><th style=\"text-align: right;\">  pid</th><th style=\"text-align: right;\">  time_since_restore</th><th style=\"text-align: right;\">  time_this_iter_s</th><th style=\"text-align: right;\">  time_total_s</th><th style=\"text-align: right;\">  timestamp</th><th style=\"text-align: right;\">  timesteps_since_restore</th><th>timesteps_total  </th><th style=\"text-align: right;\">  train_loss</th><th style=\"text-align: right;\">  train_score</th><th style=\"text-align: right;\">  training_iteration</th><th>trial_id   </th><th style=\"text-align: right;\">  val_loss</th><th style=\"text-align: right;\">  val_score</th><th style=\"text-align: right;\">  warmup_time</th></tr>\n",
              "</thead>\n",
              "<tbody>\n",
              "<tr><td>train_model_27e40_00000</td><td>2023-02-03_13-41-29</td><td>True  </td><td>                </td><td>4826087e234f4fc3827640cb7f61fed0</td><td style=\"text-align: right;\">               0</td><td>5fc79c42c9a4</td><td style=\"text-align: right;\">                        10</td><td>172.28.0.12</td><td style=\"text-align: right;\">61278</td><td style=\"text-align: right;\">             3562.98</td><td style=\"text-align: right;\">           351.353</td><td style=\"text-align: right;\">       3562.98</td><td style=\"text-align: right;\"> 1675431689</td><td style=\"text-align: right;\">                        0</td><td>                 </td><td style=\"text-align: right;\">    0.188617</td><td style=\"text-align: right;\">     0.535956</td><td style=\"text-align: right;\">                  10</td><td>27e40_00000</td><td style=\"text-align: right;\">  0.201667</td><td style=\"text-align: right;\">   0.510318</td><td style=\"text-align: right;\">    0.0030849</td></tr>\n",
              "</tbody>\n",
              "</table>\n",
              "</div>\n",
              "<style>\n",
              ".trialProgress {\n",
              "  display: flex;\n",
              "  flex-direction: column;\n",
              "  color: var(--jp-ui-font-color1);\n",
              "}\n",
              ".trialProgress h3 {\n",
              "  font-weight: bold;\n",
              "}\n",
              ".trialProgress td {\n",
              "  white-space: nowrap;\n",
              "}\n",
              "</style>\n"
            ],
            "text/plain": [
              "<IPython.core.display.HTML object>"
            ]
          },
          "metadata": {},
          "output_type": "display_data"
        },
        {
          "name": "stdout",
          "output_type": "stream",
          "text": [
            "== Status ==\n",
            "Current time: 2023-02-03 12:52:04 (running for 00:10:02.15)\n",
            "Memory usage on this node: 6.9/12.7 GiB \n",
            "Using FIFO scheduling algorithm.\n",
            "Resources requested: 0/2 CPUs, 1.0/1 GPUs, 0.0/7.41 GiB heap, 0.0/3.71 GiB objects\n",
            "Result logdir: /content/deep-seasonal-color-analysis-system/models/preprocessing/UNet/train_model_2023-02-03_12-42-01\n",
            "Number of trials: 1/1 (1 RUNNING)\n",
            "+-------------------------+----------+-------------------+--------------+---------------+------------+-------------+----------------------+\n",
            "| Trial name              | status   | loc               |   train_loss |   train_score |   val_loss |   val_score |   training_iteration |\n",
            "|-------------------------+----------+-------------------+--------------+---------------+------------+-------------+----------------------|\n",
            "| train_model_27e40_00000 | RUNNING  | 172.28.0.12:61278 |     0.711323 |      0.338428 |   0.629251 |    0.350198 |                    1 |\n",
            "+-------------------------+----------+-------------------+--------------+---------------+------------+-------------+----------------------+\n",
            "\n",
            "\n",
            "== Status ==\n",
            "Current time: 2023-02-03 13:02:08 (running for 00:20:06.74)\n",
            "Memory usage on this node: 6.9/12.7 GiB \n",
            "Using FIFO scheduling algorithm.\n",
            "Resources requested: 0/2 CPUs, 1.0/1 GPUs, 0.0/7.41 GiB heap, 0.0/3.71 GiB objects\n",
            "Result logdir: /content/deep-seasonal-color-analysis-system/models/preprocessing/UNet/train_model_2023-02-03_12-42-01\n",
            "Number of trials: 1/1 (1 RUNNING)\n",
            "+-------------------------+----------+-------------------+--------------+---------------+------------+-------------+----------------------+\n",
            "| Trial name              | status   | loc               |   train_loss |   train_score |   val_loss |   val_score |   training_iteration |\n",
            "|-------------------------+----------+-------------------+--------------+---------------+------------+-------------+----------------------|\n",
            "| train_model_27e40_00000 | RUNNING  | 172.28.0.12:61278 |     0.506235 |      0.353089 |   0.496155 |    0.345348 |                    3 |\n",
            "+-------------------------+----------+-------------------+--------------+---------------+------------+-------------+----------------------+\n",
            "\n",
            "\n",
            "== Status ==\n",
            "Current time: 2023-02-03 13:12:11 (running for 00:30:09.70)\n",
            "Memory usage on this node: 6.9/12.7 GiB \n",
            "Using FIFO scheduling algorithm.\n",
            "Resources requested: 0/2 CPUs, 1.0/1 GPUs, 0.0/7.41 GiB heap, 0.0/3.71 GiB objects\n",
            "Result logdir: /content/deep-seasonal-color-analysis-system/models/preprocessing/UNet/train_model_2023-02-03_12-42-01\n",
            "Number of trials: 1/1 (1 RUNNING)\n",
            "+-------------------------+----------+-------------------+--------------+---------------+------------+-------------+----------------------+\n",
            "| Trial name              | status   | loc               |   train_loss |   train_score |   val_loss |   val_score |   training_iteration |\n",
            "|-------------------------+----------+-------------------+--------------+---------------+------------+-------------+----------------------|\n",
            "| train_model_27e40_00000 | RUNNING  | 172.28.0.12:61278 |     0.372464 |      0.376938 |   0.361872 |    0.369814 |                    5 |\n",
            "+-------------------------+----------+-------------------+--------------+---------------+------------+-------------+----------------------+\n",
            "\n",
            "\n",
            "== Status ==\n",
            "Current time: 2023-02-03 13:22:12 (running for 00:40:10.68)\n",
            "Memory usage on this node: 6.9/12.7 GiB \n",
            "Using FIFO scheduling algorithm.\n",
            "Resources requested: 0/2 CPUs, 1.0/1 GPUs, 0.0/7.41 GiB heap, 0.0/3.71 GiB objects\n",
            "Result logdir: /content/deep-seasonal-color-analysis-system/models/preprocessing/UNet/train_model_2023-02-03_12-42-01\n",
            "Number of trials: 1/1 (1 RUNNING)\n",
            "+-------------------------+----------+-------------------+--------------+---------------+------------+-------------+----------------------+\n",
            "| Trial name              | status   | loc               |   train_loss |   train_score |   val_loss |   val_score |   training_iteration |\n",
            "|-------------------------+----------+-------------------+--------------+---------------+------------+-------------+----------------------|\n",
            "| train_model_27e40_00000 | RUNNING  | 172.28.0.12:61278 |     0.314859 |       0.41865 |   0.297095 |    0.429907 |                    6 |\n",
            "+-------------------------+----------+-------------------+--------------+---------------+------------+-------------+----------------------+\n",
            "\n",
            "\n",
            "== Status ==\n",
            "Current time: 2023-02-03 13:32:16 (running for 00:50:14.90)\n",
            "Memory usage on this node: 6.9/12.7 GiB \n",
            "Using FIFO scheduling algorithm.\n",
            "Resources requested: 0/2 CPUs, 1.0/1 GPUs, 0.0/7.41 GiB heap, 0.0/3.71 GiB objects\n",
            "Result logdir: /content/deep-seasonal-color-analysis-system/models/preprocessing/UNet/train_model_2023-02-03_12-42-01\n",
            "Number of trials: 1/1 (1 RUNNING)\n",
            "+-------------------------+----------+-------------------+--------------+---------------+------------+-------------+----------------------+\n",
            "| Trial name              | status   | loc               |   train_loss |   train_score |   val_loss |   val_score |   training_iteration |\n",
            "|-------------------------+----------+-------------------+--------------+---------------+------------+-------------+----------------------|\n",
            "| train_model_27e40_00000 | RUNNING  | 172.28.0.12:61278 |     0.238365 |      0.485766 |    0.24846 |    0.468242 |                    8 |\n",
            "+-------------------------+----------+-------------------+--------------+---------------+------------+-------------+----------------------+\n",
            "\n",
            "\n"
          ]
        },
        {
          "name": "stderr",
          "output_type": "stream",
          "text": [
            "2023-02-03 13:41:29,905\tINFO tune.py:762 -- Total run time: 3569.03 seconds (3567.92 seconds for the tuning loop).\n"
          ]
        },
        {
          "name": "stdout",
          "output_type": "stream",
          "text": [
            "== Status ==\n",
            "Current time: 2023-02-03 13:41:29 (running for 00:59:27.94)\n",
            "Memory usage on this node: 6.7/12.7 GiB \n",
            "Using FIFO scheduling algorithm.\n",
            "Resources requested: 0/2 CPUs, 0/1 GPUs, 0.0/7.41 GiB heap, 0.0/3.71 GiB objects\n",
            "Result logdir: /content/deep-seasonal-color-analysis-system/models/preprocessing/UNet/train_model_2023-02-03_12-42-01\n",
            "Number of trials: 1/1 (1 TERMINATED)\n",
            "+-------------------------+------------+-------------------+--------------+---------------+------------+-------------+----------------------+\n",
            "| Trial name              | status     | loc               |   train_loss |   train_score |   val_loss |   val_score |   training_iteration |\n",
            "|-------------------------+------------+-------------------+--------------+---------------+------------+-------------+----------------------|\n",
            "| train_model_27e40_00000 | TERMINATED | 172.28.0.12:61278 |     0.188617 |      0.535956 |   0.201667 |    0.510318 |                   10 |\n",
            "+-------------------------+------------+-------------------+--------------+---------------+------------+-------------+----------------------+\n",
            "\n",
            "\n"
          ]
        },
        {
          "data": {
            "text/plain": [
              "<ray.tune.analysis.experiment_analysis.ExperimentAnalysis at 0x7f047170a3a0>"
            ]
          },
          "execution_count": 5,
          "metadata": {},
          "output_type": "execute_result"
        }
      ],
      "source": [
        "# === training with augmentation: horizontal_flip ===\n",
        "\n",
        "image_transform_with_augmentation = T.Compose([\n",
        "    horizontal_flip,\n",
        "    T.Resize(slurm_config.GLOBAL_INPUT_SIZE_TRAINING_DEMO), \n",
        "    custom_transforms.BilateralFilter(sigma_color, sigma_space, diameter), \n",
        "    T.Normalize(config.NORMALIZE_MEAN, config.NORMALIZE_STD)])\n",
        "\n",
        "target_transform_with_augmentation = T.Compose([\n",
        "    horizontal_flip,\n",
        "    T.Resize(slurm_config.GLOBAL_INPUT_SIZE_TRAINING_DEMO)])\n",
        "\n",
        "train_dataset_with_augmentation = dataset.CcncsaDataset(\n",
        "    X_train, Y_train, image_transform_with_augmentation, target_transform_with_augmentation)\n",
        "    \n",
        "model = unet.UNet(out_channels=n_classes)\n",
        "\n",
        "cfg[\"transform\"] = \"horizontal_flip\"\n",
        "\n",
        "tune.run(partial(training_and_testing.train_model,\n",
        "                 device=device, model=model, dataset=train_dataset_with_augmentation, n_epochs=n_epochs,\n",
        "                 score_fn=score_fn, loss_fn=loss_fn, optimizer=optimizer, num_workers=(0, 0),\n",
        "                 evaluate=True, class_weights=class_weights),\n",
        "         config=cfg,\n",
        "         num_samples=num_samples,\n",
        "         resources_per_trial={\"cpu\": cpus_per_trial, \"gpu\": gpus_per_trial},\n",
        "         progress_reporter=reporter,\n",
        "         checkpoint_at_end=True,\n",
        "         checkpoint_freq=1,\n",
        "         local_dir=local_dir)"
      ]
    },
    {
      "cell_type": "code",
      "execution_count": null,
      "metadata": {
        "colab": {
          "base_uri": "https://localhost:8080/",
          "height": 1000
        },
        "id": "X5q0KgRXKtNV",
        "outputId": "d3aca2d2-f87b-4ac9-c6f7-dfd8cd3dfc99"
      },
      "outputs": [],
      "source": [
        "# downloading updated training results if running on colab\n",
        "! if test $executing_on_colab = 'True' ; then zip -r $checkpoint_archive $checkpoint_path ; fi\n",
        "if executing_on_colab:\n",
        "    files.download(checkpoint_archive)"
      ]
    },
    {
      "cell_type": "code",
      "execution_count": 7,
      "metadata": {
        "colab": {
          "base_uri": "https://localhost:8080/",
          "height": 1000
        },
        "id": "M0iJkKYbZpJG",
        "outputId": "89aa0a0a-afa8-4d3b-fb31-132fdbd2cf14"
      },
      "outputs": [
        {
          "name": "stderr",
          "output_type": "stream",
          "text": [
            "2023-02-03 13:49:20,931\tWARNING worker.py:1851 -- Warning: The actor ImplicitFunc is very large (32 MiB). Check that its definition is not implicitly capturing a large array or other object in scope. Tip: use ray.put() to put large objects in the Ray object store.\n",
            "2023-02-03 13:49:20,997\tWARNING util.py:244 -- The `start_trial` operation took 0.774 s, which may be a performance bottleneck.\n"
          ]
        },
        {
          "name": "stdout",
          "output_type": "stream",
          "text": [
            "== Status ==\n",
            "Current time: 2023-02-03 13:49:21 (running for 00:00:01.16)\n",
            "Memory usage on this node: 4.0/12.7 GiB \n",
            "Using FIFO scheduling algorithm.\n",
            "Resources requested: 0/2 CPUs, 1.0/1 GPUs, 0.0/7.41 GiB heap, 0.0/3.71 GiB objects\n",
            "Result logdir: /content/deep-seasonal-color-analysis-system/models/preprocessing/UNet/train_model_2023-02-03_13-49-19\n",
            "Number of trials: 1/1 (1 RUNNING)\n",
            "+-------------------------+----------+-------------------+\n",
            "| Trial name              | status   | loc               |\n",
            "|-------------------------+----------+-------------------|\n",
            "| train_model_8ed32_00000 | RUNNING  | 172.28.0.12:79096 |\n",
            "+-------------------------+----------+-------------------+\n",
            "\n",
            "\n"
          ]
        },
        {
          "data": {
            "text/html": [
              "<div class=\"trialProgress\">\n",
              "  <h3>Trial Progress</h3>\n",
              "  <table>\n",
              "<thead>\n",
              "<tr><th>Trial name             </th><th>date               </th><th>done  </th><th>episodes_total  </th><th>experiment_id                   </th><th style=\"text-align: right;\">  experiment_tag</th><th>hostname    </th><th style=\"text-align: right;\">  iterations_since_restore</th><th>node_ip    </th><th style=\"text-align: right;\">  pid</th><th style=\"text-align: right;\">  time_since_restore</th><th style=\"text-align: right;\">  time_this_iter_s</th><th style=\"text-align: right;\">  time_total_s</th><th style=\"text-align: right;\">  timestamp</th><th style=\"text-align: right;\">  timesteps_since_restore</th><th>timesteps_total  </th><th style=\"text-align: right;\">  train_loss</th><th style=\"text-align: right;\">  train_score</th><th style=\"text-align: right;\">  training_iteration</th><th>trial_id   </th><th style=\"text-align: right;\">  val_loss</th><th style=\"text-align: right;\">  val_score</th><th style=\"text-align: right;\">  warmup_time</th></tr>\n",
              "</thead>\n",
              "<tbody>\n",
              "<tr><td>train_model_8ed32_00000</td><td>2023-02-03_14-46-01</td><td>True  </td><td>                </td><td>c8d43b0a961b45f5bd18919d5b4cd70d</td><td style=\"text-align: right;\">               0</td><td>5fc79c42c9a4</td><td style=\"text-align: right;\">                        10</td><td>172.28.0.12</td><td style=\"text-align: right;\">79096</td><td style=\"text-align: right;\">             3395.82</td><td style=\"text-align: right;\">           339.044</td><td style=\"text-align: right;\">       3395.82</td><td style=\"text-align: right;\"> 1675435561</td><td style=\"text-align: right;\">                        0</td><td>                 </td><td style=\"text-align: right;\">    0.160402</td><td style=\"text-align: right;\">     0.580858</td><td style=\"text-align: right;\">                  10</td><td>8ed32_00000</td><td style=\"text-align: right;\">  0.168652</td><td style=\"text-align: right;\">   0.594522</td><td style=\"text-align: right;\">   0.00411224</td></tr>\n",
              "</tbody>\n",
              "</table>\n",
              "</div>\n",
              "<style>\n",
              ".trialProgress {\n",
              "  display: flex;\n",
              "  flex-direction: column;\n",
              "  color: var(--jp-ui-font-color1);\n",
              "}\n",
              ".trialProgress h3 {\n",
              "  font-weight: bold;\n",
              "}\n",
              ".trialProgress td {\n",
              "  white-space: nowrap;\n",
              "}\n",
              "</style>\n"
            ],
            "text/plain": [
              "<IPython.core.display.HTML object>"
            ]
          },
          "metadata": {},
          "output_type": "display_data"
        },
        {
          "name": "stdout",
          "output_type": "stream",
          "text": [
            "== Status ==\n",
            "Current time: 2023-02-03 13:59:22 (running for 00:10:03.13)\n",
            "Memory usage on this node: 7.0/12.7 GiB \n",
            "Using FIFO scheduling algorithm.\n",
            "Resources requested: 0/2 CPUs, 1.0/1 GPUs, 0.0/7.41 GiB heap, 0.0/3.71 GiB objects\n",
            "Result logdir: /content/deep-seasonal-color-analysis-system/models/preprocessing/UNet/train_model_2023-02-03_13-49-19\n",
            "Number of trials: 1/1 (1 RUNNING)\n",
            "+-------------------------+----------+-------------------+--------------+---------------+------------+-------------+----------------------+\n",
            "| Trial name              | status   | loc               |   train_loss |   train_score |   val_loss |   val_score |   training_iteration |\n",
            "|-------------------------+----------+-------------------+--------------+---------------+------------+-------------+----------------------|\n",
            "| train_model_8ed32_00000 | RUNNING  | 172.28.0.12:79096 |     0.742509 |      0.332602 |   0.639785 |    0.342014 |                    1 |\n",
            "+-------------------------+----------+-------------------+--------------+---------------+------------+-------------+----------------------+\n",
            "\n",
            "\n",
            "== Status ==\n",
            "Current time: 2023-02-03 14:09:23 (running for 00:20:03.31)\n",
            "Memory usage on this node: 7.0/12.7 GiB \n",
            "Using FIFO scheduling algorithm.\n",
            "Resources requested: 0/2 CPUs, 1.0/1 GPUs, 0.0/7.41 GiB heap, 0.0/3.71 GiB objects\n",
            "Result logdir: /content/deep-seasonal-color-analysis-system/models/preprocessing/UNet/train_model_2023-02-03_13-49-19\n",
            "Number of trials: 1/1 (1 RUNNING)\n",
            "+-------------------------+----------+-------------------+--------------+---------------+------------+-------------+----------------------+\n",
            "| Trial name              | status   | loc               |   train_loss |   train_score |   val_loss |   val_score |   training_iteration |\n",
            "|-------------------------+----------+-------------------+--------------+---------------+------------+-------------+----------------------|\n",
            "| train_model_8ed32_00000 | RUNNING  | 172.28.0.12:79096 |     0.504092 |      0.375819 |   0.488898 |    0.378669 |                    3 |\n",
            "+-------------------------+----------+-------------------+--------------+---------------+------------+-------------+----------------------+\n",
            "\n",
            "\n",
            "== Status ==\n",
            "Current time: 2023-02-03 14:19:24 (running for 00:30:04.57)\n",
            "Memory usage on this node: 7.0/12.7 GiB \n",
            "Using FIFO scheduling algorithm.\n",
            "Resources requested: 0/2 CPUs, 1.0/1 GPUs, 0.0/7.41 GiB heap, 0.0/3.71 GiB objects\n",
            "Result logdir: /content/deep-seasonal-color-analysis-system/models/preprocessing/UNet/train_model_2023-02-03_13-49-19\n",
            "Number of trials: 1/1 (1 RUNNING)\n",
            "+-------------------------+----------+-------------------+--------------+---------------+------------+-------------+----------------------+\n",
            "| Trial name              | status   | loc               |   train_loss |   train_score |   val_loss |   val_score |   training_iteration |\n",
            "|-------------------------+----------+-------------------+--------------+---------------+------------+-------------+----------------------|\n",
            "| train_model_8ed32_00000 | RUNNING  | 172.28.0.12:79096 |     0.353758 |      0.402891 |   0.318505 |    0.415436 |                    5 |\n",
            "+-------------------------+----------+-------------------+--------------+---------------+------------+-------------+----------------------+\n",
            "\n",
            "\n",
            "== Status ==\n",
            "Current time: 2023-02-03 14:29:29 (running for 00:40:09.56)\n",
            "Memory usage on this node: 7.0/12.7 GiB \n",
            "Using FIFO scheduling algorithm.\n",
            "Resources requested: 0/2 CPUs, 1.0/1 GPUs, 0.0/7.41 GiB heap, 0.0/3.71 GiB objects\n",
            "Result logdir: /content/deep-seasonal-color-analysis-system/models/preprocessing/UNet/train_model_2023-02-03_13-49-19\n",
            "Number of trials: 1/1 (1 RUNNING)\n",
            "+-------------------------+----------+-------------------+--------------+---------------+------------+-------------+----------------------+\n",
            "| Trial name              | status   | loc               |   train_loss |   train_score |   val_loss |   val_score |   training_iteration |\n",
            "|-------------------------+----------+-------------------+--------------+---------------+------------+-------------+----------------------|\n",
            "| train_model_8ed32_00000 | RUNNING  | 172.28.0.12:79096 |     0.238882 |       0.47709 |   0.234158 |    0.507055 |                    7 |\n",
            "+-------------------------+----------+-------------------+--------------+---------------+------------+-------------+----------------------+\n",
            "\n",
            "\n",
            "== Status ==\n",
            "Current time: 2023-02-03 14:39:32 (running for 00:50:13.03)\n",
            "Memory usage on this node: 7.0/12.7 GiB \n",
            "Using FIFO scheduling algorithm.\n",
            "Resources requested: 0/2 CPUs, 1.0/1 GPUs, 0.0/7.41 GiB heap, 0.0/3.71 GiB objects\n",
            "Result logdir: /content/deep-seasonal-color-analysis-system/models/preprocessing/UNet/train_model_2023-02-03_13-49-19\n",
            "Number of trials: 1/1 (1 RUNNING)\n",
            "+-------------------------+----------+-------------------+--------------+---------------+------------+-------------+----------------------+\n",
            "| Trial name              | status   | loc               |   train_loss |   train_score |   val_loss |   val_score |   training_iteration |\n",
            "|-------------------------+----------+-------------------+--------------+---------------+------------+-------------+----------------------|\n",
            "| train_model_8ed32_00000 | RUNNING  | 172.28.0.12:79096 |     0.202342 |      0.522201 |   0.210662 |     0.49569 |                    8 |\n",
            "+-------------------------+----------+-------------------+--------------+---------------+------------+-------------+----------------------+\n",
            "\n",
            "\n"
          ]
        },
        {
          "name": "stderr",
          "output_type": "stream",
          "text": [
            "2023-02-03 14:46:01,992\tINFO tune.py:762 -- Total run time: 3402.78 seconds (3402.04 seconds for the tuning loop).\n"
          ]
        },
        {
          "name": "stdout",
          "output_type": "stream",
          "text": [
            "== Status ==\n",
            "Current time: 2023-02-03 14:46:01 (running for 00:56:42.04)\n",
            "Memory usage on this node: 7.0/12.7 GiB \n",
            "Using FIFO scheduling algorithm.\n",
            "Resources requested: 0/2 CPUs, 0/1 GPUs, 0.0/7.41 GiB heap, 0.0/3.71 GiB objects\n",
            "Result logdir: /content/deep-seasonal-color-analysis-system/models/preprocessing/UNet/train_model_2023-02-03_13-49-19\n",
            "Number of trials: 1/1 (1 TERMINATED)\n",
            "+-------------------------+------------+-------------------+--------------+---------------+------------+-------------+----------------------+\n",
            "| Trial name              | status     | loc               |   train_loss |   train_score |   val_loss |   val_score |   training_iteration |\n",
            "|-------------------------+------------+-------------------+--------------+---------------+------------+-------------+----------------------|\n",
            "| train_model_8ed32_00000 | TERMINATED | 172.28.0.12:79096 |     0.160402 |      0.580858 |   0.168652 |    0.594522 |                   10 |\n",
            "+-------------------------+------------+-------------------+--------------+---------------+------------+-------------+----------------------+\n",
            "\n",
            "\n"
          ]
        },
        {
          "data": {
            "text/plain": [
              "<ray.tune.analysis.experiment_analysis.ExperimentAnalysis at 0x7f0470c5e730>"
            ]
          },
          "execution_count": 7,
          "metadata": {},
          "output_type": "execute_result"
        }
      ],
      "source": [
        "# === training with augmentation: center_crop ===\n",
        "\n",
        "image_transform_with_augmentation = T.Compose([\n",
        "    center_crop,\n",
        "    T.Resize(slurm_config.GLOBAL_INPUT_SIZE_TRAINING_DEMO), \n",
        "    custom_transforms.BilateralFilter(sigma_color, sigma_space, diameter), \n",
        "    T.Normalize(config.NORMALIZE_MEAN, config.NORMALIZE_STD)])\n",
        "\n",
        "target_transform_with_augmentation = T.Compose([\n",
        "    center_crop,\n",
        "    T.Resize(slurm_config.GLOBAL_INPUT_SIZE_TRAINING_DEMO)])\n",
        "\n",
        "train_dataset_with_augmentation = dataset.CcncsaDataset(\n",
        "    X_train, Y_train, image_transform_with_augmentation, target_transform_with_augmentation)\n",
        "\n",
        "model = unet.UNet(out_channels=n_classes)\n",
        "\n",
        "cfg[\"transform\"] = \"center_crop\"\n",
        "\n",
        "tune.run(partial(training_and_testing.train_model,\n",
        "                 device=device, model=model, dataset=train_dataset_with_augmentation, n_epochs=n_epochs,\n",
        "                 score_fn=score_fn, loss_fn=loss_fn, optimizer=optimizer, num_workers=(0, 0),\n",
        "                 evaluate=True, class_weights=class_weights),\n",
        "         config=cfg,\n",
        "         num_samples=num_samples,\n",
        "         resources_per_trial={\"cpu\": cpus_per_trial, \"gpu\": gpus_per_trial},\n",
        "         progress_reporter=reporter,\n",
        "         checkpoint_at_end=True,\n",
        "         checkpoint_freq=1,\n",
        "         local_dir=local_dir)"
      ]
    },
    {
      "cell_type": "code",
      "execution_count": null,
      "metadata": {
        "colab": {
          "base_uri": "https://localhost:8080/",
          "height": 1000
        },
        "id": "lMf4nA_GKtNW",
        "outputId": "7dd04595-6b41-4cea-d8b7-1b95c3118802"
      },
      "outputs": [],
      "source": [
        "# downloading updated training results if running on colab\n",
        "! if test $executing_on_colab = 'True' ; then zip -r $checkpoint_archive $checkpoint_path ; fi\n",
        "if executing_on_colab:\n",
        "    files.download(checkpoint_archive)"
      ]
    }
  ],
  "metadata": {
    "accelerator": "GPU",
    "colab": {
      "provenance": []
    },
    "gpuClass": "standard",
    "kernelspec": {
      "display_name": "cv",
      "language": "python",
      "name": "python3"
    },
    "language_info": {
      "codemirror_mode": {
        "name": "ipython",
        "version": 3
      },
      "file_extension": ".py",
      "mimetype": "text/x-python",
      "name": "python",
      "nbconvert_exporter": "python",
      "pygments_lexer": "ipython3",
      "version": "3.9.6"
    },
    "orig_nbformat": 4,
    "vscode": {
      "interpreter": {
        "hash": "bff6c79cdac020ac98a972002b5dbe7766c5a0fccfcd9b44550d7582f6eef17b"
      }
    }
  },
  "nbformat": 4,
  "nbformat_minor": 0
}
