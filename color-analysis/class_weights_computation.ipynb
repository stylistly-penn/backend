{
 "cells": [
  {
   "cell_type": "code",
   "execution_count": 1,
   "metadata": {},
   "outputs": [],
   "source": [
    "import torchvision.transforms as T\n",
    "from utils import segmentation_labels\n",
    "from models import dataset\n",
    "from models import config\n",
    "from torch.utils.data import DataLoader\n",
    "import torch"
   ]
  },
  {
   "cell_type": "code",
   "execution_count": 2,
   "metadata": {},
   "outputs": [],
   "source": [
    "# fetching dataset labels\n",
    "tH, tW = 256, 256\n",
    "batch_size = 32\n",
    "image_transform = T.Compose([T.Resize((tH, tW))])\n",
    "dataset_path = config.DATASET_PATH\n",
    "n_classes = len(segmentation_labels.labels)\n",
    "img_paths, label_paths = dataset.get_paths(dataset_path, file_name=config.DATASET_INDEX_NAME)\n",
    "dataset = dataset.CcncsaDataset(img_paths, label_paths, image_transform)"
   ]
  },
  {
   "cell_type": "code",
   "execution_count": 3,
   "metadata": {},
   "outputs": [
    {
     "data": {
      "text/plain": [
       "tensor([663407231,   5791783,   2802190,  15407209, 258507919,  91505125,\n",
       "          3427833,   6753681,   1202242,  11380425,   3352578])"
      ]
     },
     "execution_count": 3,
     "metadata": {},
     "output_type": "execute_result"
    }
   ],
   "source": [
    "class_counts = torch.zeros((n_classes,), dtype=torch.int64)\n",
    "\n",
    "for i in range(len(dataset)):\n",
    "    target = dataset[i][1]\n",
    "    partial_counts = target.sum(axis=(1, 2))\n",
    "    class_counts += partial_counts\n",
    "\n",
    "class_counts"
   ]
  },
  {
   "cell_type": "code",
   "execution_count": 4,
   "metadata": {},
   "outputs": [
    {
     "data": {
      "text/plain": [
       "tensor([0.3762, 0.9946, 0.9974, 0.9855, 0.7569, 0.9140, 0.9968, 0.9936, 0.9989,\n",
       "        0.9893, 0.9968])"
      ]
     },
     "execution_count": 4,
     "metadata": {},
     "output_type": "execute_result"
    }
   ],
   "source": [
    "class_weights = 1 - (class_counts / class_counts.sum())\n",
    "class_weights"
   ]
  }
 ],
 "metadata": {
  "kernelspec": {
   "display_name": "dscas",
   "language": "python",
   "name": "python3"
  },
  "language_info": {
   "codemirror_mode": {
    "name": "ipython",
    "version": 3
   },
   "file_extension": ".py",
   "mimetype": "text/x-python",
   "name": "python",
   "nbconvert_exporter": "python",
   "pygments_lexer": "ipython3",
   "version": "3.10.8"
  },
  "orig_nbformat": 4,
  "vscode": {
   "interpreter": {
    "hash": "f8a8707fb11d5d89cf3731e99f3a893eb130d1c029541dff323dda234707d9bf"
   }
  }
 },
 "nbformat": 4,
 "nbformat_minor": 2
}
